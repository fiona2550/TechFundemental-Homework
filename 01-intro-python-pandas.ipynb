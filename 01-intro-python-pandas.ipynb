{
 "cells": [
  {
   "cell_type": "markdown",
   "metadata": {
    "slideshow": {
     "slide_type": "slide"
    }
   },
   "source": [
    "[![AnalyticsDojo](https://s3.amazonaws.com/analyticsdojo/logo/final-logo.png)](http://rpi.analyticsdojo.com)\n",
    "<center><h1>Introduction to Python - Introduction to Pandas</h1></center>\n",
    "<center><h3><a href = 'http://rpi.analyticsdojo.com'>rpi.analyticsdojo.com</a></h3></center>\n",
    "\n"
   ]
  },
  {
   "cell_type": "markdown",
   "metadata": {
    "slideshow": {
     "slide_type": "skip"
    }
   },
   "source": [
    "#### Large sections of this were adopted from Analyzing structured data with Pandas by [Steve Phelps](http://sphelps.net). \n"
   ]
  },
  {
   "cell_type": "markdown",
   "metadata": {
    "slideshow": {
     "slide_type": "subslide"
    }
   },
   "source": [
    "## Introduction to Pandas\n",
    "- Pandas Overview\n",
    "- Series Objects\n",
    "- DataFrame Objects\n",
    "- Slicing and Filtering\n",
    "- Examples: Financial Data\n",
    "- Examples: Iris\n"
   ]
  },
  {
   "cell_type": "markdown",
   "metadata": {
    "slideshow": {
     "slide_type": "subslide"
    }
   },
   "source": [
    "## Pandas Overview\n",
    "- Pandas is object-oriented.\n",
    "\n",
    "- We create data frames by constructing instances of different classes.\n",
    "\n",
    "- The two most important classes are:\n",
    "\n",
    "    - `DataFrame`\n",
    "    - `Series`\n",
    "    \n",
    "- Pandas follows the Java convention of starting the name of classes with an upper-case letter, whereas instances are all lower-case.\n",
    "- The pandas module is usually imported with the alias `pd`.\n"
   ]
  },
  {
   "cell_type": "code",
   "execution_count": 2,
   "metadata": {
    "collapsed": true
   },
   "outputs": [],
   "source": [
    "import pandas as pd"
   ]
  },
  {
   "cell_type": "markdown",
   "metadata": {
    "slideshow": {
     "slide_type": "subslide"
    }
   },
   "source": [
    "# Pandas (like the rest of Python) is object-oriented\n",
    "\n",
    "- Pandas is object-oriented.\n",
    "\n",
    "- We create data frames by constructing instances of different classes.\n",
    "\n",
    "- The two most important classes are:\n",
    "\n",
    "    - `DataFrame`\n",
    "    - `Series`\n",
    "    \n",
    "- Pandas follows the Java convention of starting the name of classes with an upper-case letter, whereas instances are all lower-case.\n"
   ]
  },
  {
   "cell_type": "markdown",
   "metadata": {
    "slideshow": {
     "slide_type": "subslide"
    }
   },
   "source": [
    "## Pandas Series\n",
    "- One-dimensional array \n",
    "- Series can be like array, with standard integer index starting at 0\n",
    "- Series can be dictionary like, with defined index \n"
   ]
  },
  {
   "cell_type": "code",
   "execution_count": 3,
   "metadata": {},
   "outputs": [
    {
     "name": "stdout",
     "output_type": "stream",
     "text": [
      "0    1\n",
      "1    2\n",
      "2    3\n",
      "3    4\n",
      "4    5\n",
      "dtype: int64 \n",
      " a    1\n",
      "b    2\n",
      "c    3\n",
      "d    4\n",
      "e    5\n",
      "dtype: int64\n"
     ]
    }
   ],
   "source": [
    "data = [1,2,3,4,5] #This creates a list\n",
    "my_series = pd.Series(data) #array-like pandas series, index created automatically\n",
    "my_series2 = pd.Series(data, index=['a', 'b', 'c', 'd', 'e'])  #dict like, index specified\n",
    "print(my_series, '\\n', my_series2)"
   ]
  },
  {
   "cell_type": "markdown",
   "metadata": {
    "slideshow": {
     "slide_type": "subslide"
    }
   },
   "source": [
    "# Plotting a Series\n",
    "\n",
    "- We can plot a series by invoking the `plot()` method on an instance of a `Series` object.\n",
    "\n",
    "- The x-axis will autimatically be labelled with the series index.\n",
    "\n",
    "- This is the first time we are invoking a `magic` command. Read more about them [here](http://ipython.readthedocs.io/en/stable/interactive/magics.html). "
   ]
  },
  {
   "cell_type": "code",
   "execution_count": 4,
   "metadata": {
    "slideshow": {
     "slide_type": "-"
    }
   },
   "outputs": [
    {
     "data": {
      "text/plain": [
       "<matplotlib.axes._subplots.AxesSubplot at 0x10d0ff160>"
      ]
     },
     "execution_count": 4,
     "metadata": {},
     "output_type": "execute_result"
    },
    {
     "data": {
      "image/png": "[encoded data removed]",
      "text/plain": [
       "<matplotlib.figure.Figure at 0x10c20a8d0>"
      ]
     },
     "metadata": {},
     "output_type": "display_data"
    }
   ],
   "source": [
    "%matplotlib inline\n",
    "my_series.plot()"
   ]
  },
  {
   "cell_type": "markdown",
   "metadata": {
    "slideshow": {
     "slide_type": "subslide"
    }
   },
   "source": [
    "# Creating a Series from a `dict`\n",
    "\n"
   ]
  },
  {
   "cell_type": "code",
   "execution_count": 5,
   "metadata": {},
   "outputs": [
    {
     "data": {
      "text/plain": [
       "a    0.0\n",
       "b    1.0\n",
       "c    2.0\n",
       "dtype: float64"
      ]
     },
     "execution_count": 5,
     "metadata": {},
     "output_type": "execute_result"
    }
   ],
   "source": [
    "d = {'a' : 0., 'b' : 1., 'c' : 2.}\n",
    "my_series = pd.Series(d)\n",
    "my_series"
   ]
  },
  {
   "cell_type": "markdown",
   "metadata": {
    "slideshow": {
     "slide_type": "subslide"
    }
   },
   "source": [
    "# Indexing/Slicing a Series with `[]` or . notation\n",
    "\n",
    "- Series can be accessed using the same syntax as arrays and dicts.\n",
    "- We use the labels in the index to access each element.\n",
    "- We can also use the label like an attribute `my_series.b`\n",
    "- We can specify a range with `my_series[['b', 'c']]`\n",
    "\n"
   ]
  },
  {
   "cell_type": "code",
   "execution_count": 6,
   "metadata": {},
   "outputs": [
    {
     "name": "stdout",
     "output_type": "stream",
     "text": [
      "1.0 \n",
      " 1.0 \n",
      " b    1.0\n",
      "c    2.0\n",
      "dtype: float64\n"
     ]
    }
   ],
   "source": [
    "#Notice the different ways that the parts of the series are specified. \n",
    "print( my_series['b'],'\\n', my_series.b, '\\n', my_series[['b', 'c']])"
   ]
  },
  {
   "cell_type": "markdown",
   "metadata": {
    "slideshow": {
     "slide_type": "subslide"
    }
   },
   "source": [
    "## Functions on Series\n",
    "\n",
    "- We can perform calculations using the entire series similar to numpy.\n",
    "- Methods are called from within `np.Series`, for example np.Series.add\n",
    "- See a variety of series functions [here](http://pandas.pydata.org/pandas-docs/stable/generated/pandas.Series.html) \n",
    "\n"
   ]
  },
  {
   "cell_type": "code",
   "execution_count": 9,
   "metadata": {},
   "outputs": [
    {
     "name": "stdout",
     "output_type": "stream",
     "text": [
      "Print the entire array a: \n",
      " a    0.0\n",
      "b    1.0\n",
      "c    2.0\n",
      "dtype: float64\n",
      "Mulitiply by 10 directly:\n",
      " a     0.0\n",
      "b    10.0\n",
      "c    20.0\n",
      "dtype: float64\n",
      "Mulitiply by 10 using the function:\n",
      " a     0.0\n",
      "b    10.0\n",
      "c    20.0\n",
      "dtype: float64\n",
      "Add a and b together directly:\n",
      " a     0.0\n",
      "b    11.0\n",
      "c    22.0\n",
      "dtype: float64\n",
      "Add a and b together with a function:\n",
      " a     0.0\n",
      "b    11.0\n",
      "c    22.0\n",
      "dtype: float64\n",
      "sum all of a:\n",
      " 3.0\n",
      "square a:\n",
      " a    0.0\n",
      "b    1.0\n",
      "c    4.0\n",
      "dtype: float64\n",
      "Add 2 series together:\n",
      " a    3.0\n",
      "b    5.0\n",
      "c    7.0\n",
      "dtype: float64\n"
     ]
    }
   ],
   "source": [
    "#These are just a variety of examples of operations on series.\n",
    "\n",
    "\n",
    "starter = {'a' : 0., 'b' : 1., 'c' : 2.}\n",
    "\n",
    "a = pd.Series(starter)\n",
    "print('Print the entire array a: \\n', a)\n",
    "\n",
    "b1=10*a\n",
    "print('Mulitiply by 10 directly:\\n', b1)\n",
    "\n",
    "b2=a.multiply(10)\n",
    "print('Mulitiply by 10 using the function:\\n', b2)\n",
    "\n",
    "c1=a+b1\n",
    "print('Add a and b together directly:\\n', c1)\n",
    "\n",
    "c2=pd.Series.add(a,b1) #Note we are calling the method of the series class. Numpy used us np.add\n",
    "print('Add a and b together with a function:\\n', c2)\n",
    "\n",
    "\n",
    "suma=pd.Series.sum(a) #Note we are calling the method of the series class. Numpy used us np.add\n",
    "print('sum all of a:\\n', suma)\n",
    "\n",
    "\n",
    "f=a**2  #This squares the value. \n",
    "print('square a:\\n', f)\n",
    "x = pd.Series({'a' : 0., 'b' : 1., 'c' : 2.})\n",
    "y = pd.Series({'a' : 3., 'b' : 4., 'c' : 5.})\n",
    "z = x+y\n",
    "print('Add 2 series together:\\n', z)"
   ]
  },
  {
   "cell_type": "markdown",
   "metadata": {
    "slideshow": {
     "slide_type": "subslide"
    }
   },
   "source": [
    "## Time Series\n",
    "- Time series models link specific times with rows."
   ]
  },
  {
   "cell_type": "code",
   "execution_count": 7,
   "metadata": {},
   "outputs": [
    {
     "data": {
      "text/plain": [
       "DatetimeIndex(['2000-01-01', '2000-01-02', '2000-01-03', '2000-01-04',\n",
       "               '2000-01-05'],\n",
       "              dtype='datetime64[ns]', freq='D')"
      ]
     },
     "execution_count": 7,
     "metadata": {},
     "output_type": "execute_result"
    }
   ],
   "source": [
    "dates = pd.date_range('1/1/2000', periods=5)\n",
    "dates"
   ]
  },
  {
   "cell_type": "code",
   "execution_count": 8,
   "metadata": {},
   "outputs": [
    {
     "data": {
      "text/plain": [
       "2000-01-01    1\n",
       "2000-01-02    2\n",
       "2000-01-03    3\n",
       "2000-01-04    4\n",
       "2000-01-05    5\n",
       "Freq: D, dtype: int64"
      ]
     },
     "execution_count": 8,
     "metadata": {},
     "output_type": "execute_result"
    }
   ],
   "source": [
    "time_series = pd.Series(data, index=dates)\n",
    "time_series"
   ]
  },
  {
   "cell_type": "markdown",
   "metadata": {
    "slideshow": {
     "slide_type": "subslide"
    }
   },
   "source": [
    "## Plot Time Series\n",
    "- With a data and a value, the plot command can be used to provide quick visibility in the form of a line graph."
   ]
  },
  {
   "cell_type": "code",
   "execution_count": 9,
   "metadata": {
    "slideshow": {
     "slide_type": "subslide"
    }
   },
   "outputs": [
    {
     "data": {
      "image/png": "[encoded data removed]",
      "text/plain": [
       "<matplotlib.figure.Figure at 0x110719c88>"
      ]
     },
     "metadata": {},
     "output_type": "display_data"
    }
   ],
   "source": [
    "ax = time_series.plot()"
   ]
  },
  {
   "cell_type": "markdown",
   "metadata": {
    "slideshow": {
     "slide_type": "subslide"
    }
   },
   "source": [
    "## DataFrames\n",
    "\n",
    "- The `pandas` module provides a powerful data-structure called a data frame.\n",
    "\n",
    "- It is similar, but not identical to:\n",
    "    - a table in a relational database,\n",
    "    - an Excel spreadsheet,\n",
    "    - a dataframe in R.\n",
    "\n",
    "- A data frame has multiple columns, each of which can hold a *different* type of value.\n",
    "\n",
    "- Like a series, it has an index which provides a label for each and every row. \n",
    "\n",
    "\n",
    "    "
   ]
  },
  {
   "cell_type": "markdown",
   "metadata": {
    "slideshow": {
     "slide_type": "subslide"
    }
   },
   "source": [
    "## Creating a DataFrame from Outside Data\n",
    "- Data frames can be read and written to/from:\n",
    "    - database queries, database tables\n",
    "    - CSV files\n",
    "    - json files\n",
    "    - etc.\n",
    "    \n",
    "- Beware that data frames are memory resident;\n",
    "    - If you read a large amount of data your PC might crash\n",
    "    - With big data, typically you would read a subset or summary of the data via e.g. a select statement."
   ]
  },
  {
   "cell_type": "markdown",
   "metadata": {
    "slideshow": {
     "slide_type": "subslide"
    }
   },
   "source": [
    "## Creating a DataFrame from Python Data Structures\n",
    "\n",
    "- Data frames can be constructed from other data structures in memory:\n",
    "    - dict of arrays,\n",
    "    - dict of lists,\n",
    "    - dict of dict\n",
    "    - dict of Series\n",
    "    - 2-dimensional array\n",
    "    - a single Series\n",
    "    - another DataFrame"
   ]
  },
  {
   "cell_type": "markdown",
   "metadata": {
    "slideshow": {
     "slide_type": "subslide"
    }
   },
   "source": [
    "\n",
    "## Example: Creating a DataFrame from Multiple Series\n",
    "- Pandas codes missing values as `NaN` rather than `None`\n",
    "- Series should have matching keys for each matching row.\n"
   ]
  },
  {
   "cell_type": "code",
   "execution_count": 11,
   "metadata": {},
   "outputs": [
    {
     "name": "stdout",
     "output_type": "stream",
     "text": [
      "     x    y    z\n",
      "a  1.0  4.0  NaN\n",
      "b  2.0  NaN  0.2\n",
      "c  3.0  6.0  0.3\n",
      "d  NaN  7.0  0.4\n"
     ]
    }
   ],
   "source": [
    "d = {\n",
    "        'x' : \n",
    "            pd.Series([1., 2., 3.], index=['a', 'b', 'c']),\n",
    "        'y' : \n",
    "            pd.Series([4.,  6., 7.], index=['a',  'c', 'd']),\n",
    "        'z' :\n",
    "            pd.Series([0.2, 0.3, 0.4], index=[ 'b', 'c', 'd'])\n",
    "}\n",
    "\n",
    "df = pd.DataFrame(d)\n",
    "print (df)"
   ]
  },
  {
   "cell_type": "markdown",
   "metadata": {
    "slideshow": {
     "slide_type": "subslide"
    }
   },
   "source": [
    "# Plotting DataFrames\n",
    "\n",
    "- When plotting a data frame, each column is plotted as its own series on the same graph.\n",
    "\n",
    "- The column names are used to label each series.\n",
    "\n",
    "- The row names (index) is used to label the x-axis."
   ]
  },
  {
   "cell_type": "code",
   "execution_count": 12,
   "metadata": {
    "slideshow": {
     "slide_type": "-"
    }
   },
   "outputs": [
    {
     "data": {
      "image/png": "[encoded data removed]",
      "text/plain": [
       "<matplotlib.figure.Figure at 0x110732ac8>"
      ]
     },
     "metadata": {},
     "output_type": "display_data"
    }
   ],
   "source": [
    "ax = df.plot()"
   ]
  },
  {
   "cell_type": "code",
   "execution_count": 13,
   "metadata": {},
   "outputs": [
    {
     "data": {
      "text/html": [
       "<div>\n",
       "<table border=\"1\" class=\"dataframe\">\n",
       "  <thead>\n",
       "    <tr style=\"text-align: right;\">\n",
       "      <th></th>\n",
       "      <th>x</th>\n",
       "      <th>y</th>\n",
       "      <th>z</th>\n",
       "    </tr>\n",
       "  </thead>\n",
       "  <tbody>\n",
       "    <tr>\n",
       "      <th>a</th>\n",
       "      <td>1.0</td>\n",
       "      <td>4.0</td>\n",
       "      <td>NaN</td>\n",
       "    </tr>\n",
       "    <tr>\n",
       "      <th>b</th>\n",
       "      <td>2.0</td>\n",
       "      <td>NaN</td>\n",
       "      <td>0.2</td>\n",
       "    </tr>\n",
       "    <tr>\n",
       "      <th>c</th>\n",
       "      <td>3.0</td>\n",
       "      <td>6.0</td>\n",
       "      <td>0.3</td>\n",
       "    </tr>\n",
       "    <tr>\n",
       "      <th>d</th>\n",
       "      <td>NaN</td>\n",
       "      <td>7.0</td>\n",
       "      <td>0.4</td>\n",
       "    </tr>\n",
       "  </tbody>\n",
       "</table>\n",
       "</div>"
      ],
      "text/plain": [
       "     x    y    z\n",
       "a  1.0  4.0  NaN\n",
       "b  2.0  NaN  0.2\n",
       "c  3.0  6.0  0.3\n",
       "d  NaN  7.0  0.4"
      ]
     },
     "execution_count": 13,
     "metadata": {},
     "output_type": "execute_result"
    }
   ],
   "source": [
    "df\n"
   ]
  },
  {
   "cell_type": "markdown",
   "metadata": {
    "slideshow": {
     "slide_type": "subslide"
    }
   },
   "source": [
    "## Functions and DataFrames\n",
    "\n",
    "- We can do calculations and functions with dataframes just like series.\n",
    "- Functions will typically return a dataframe or a series, depending. \n",
    "- To make a copy, don't set two dataframes equal us the `copy` method:  `df2= df.copy()` "
   ]
  },
  {
   "cell_type": "code",
   "execution_count": 27,
   "metadata": {},
   "outputs": [
    {
     "name": "stdout",
     "output_type": "stream",
     "text": [
      "       x      y      z\n",
      "a  False  False   True\n",
      "b  False   True  False\n",
      "c  False  False  False\n",
      "d   True  False  False \n",
      " <class 'pandas.core.frame.DataFrame'>\n",
      "\n",
      "Null sum for each column \n",
      " x    1\n",
      "y    1\n",
      "z    1\n",
      "dtype: int64 \n",
      " <class 'pandas.core.series.Series'>\n",
      "\n",
      "We can slice these results to get the answer for x \n",
      " 1\n"
     ]
    }
   ],
   "source": [
    "#Info\n",
    "nulls=df.isnull()\n",
    "print(nulls, \"\\n\", type(nulls))\n",
    "\n",
    "nullsum=nulls.sum()\n",
    "\n",
    "print(\"\\nNull sum for each column \\n\", nullsum, \"\\n\", type(nullsum))\n",
    "\n",
    "print(\"\\nWe can slice these results to get the answer for x \\n\", nullsum['x'])"
   ]
  },
  {
   "cell_type": "code",
   "execution_count": 13,
   "metadata": {},
   "outputs": [
    {
     "name": "stdout",
     "output_type": "stream",
     "text": [
      "     x    y    z\n",
      "a  1.0  4.0  NaN\n",
      "b  2.0  NaN  0.2\n",
      "c  3.0  6.0  0.3\n",
      "d  NaN  7.0  0.4 \n",
      "      x    y    z\n",
      "a  1.0  4.0  NaN\n",
      "b  2.0  NaN  0.2\n",
      "c  3.0  6.0  0.3\n",
      "d  NaN  7.0  0.4\n"
     ]
    }
   ],
   "source": [
    "df2= df.copy()\n",
    "print(df, '\\n', df2)"
   ]
  },
  {
   "cell_type": "code",
   "execution_count": 29,
   "metadata": {},
   "outputs": [
    {
     "name": "stdout",
     "output_type": "stream",
     "text": [
      "     x     y     z\n",
      "a  1.0  16.0   NaN\n",
      "b  4.0   NaN  0.04\n",
      "c  9.0  36.0  0.09\n",
      "d  NaN  49.0  0.16\n"
     ]
    }
   ],
   "source": [
    "df2=df ** 2 #This squares all values. \n",
    "print(df2)"
   ]
  },
  {
   "cell_type": "markdown",
   "metadata": {
    "slideshow": {
     "slide_type": "subslide"
    }
   },
   "source": [
    "## Summary statistics\n",
    "- To quickly obtain summary statistics on numerical values use the `describe` method.\n",
    "- You will get a warning if there are missing values.\n",
    "- The result is itself a DataFrame, that we can slice `dfstats.y['mean']`."
   ]
  },
  {
   "cell_type": "code",
   "execution_count": 16,
   "metadata": {
    "slideshow": {
     "slide_type": "-"
    }
   },
   "outputs": [
    {
     "data": {
      "text/html": [
       "<div>\n",
       "<table border=\"1\" class=\"dataframe\">\n",
       "  <thead>\n",
       "    <tr style=\"text-align: right;\">\n",
       "      <th></th>\n",
       "      <th>x</th>\n",
       "      <th>y</th>\n",
       "      <th>z</th>\n",
       "    </tr>\n",
       "  </thead>\n",
       "  <tbody>\n",
       "    <tr>\n",
       "      <th>count</th>\n",
       "      <td>3.0</td>\n",
       "      <td>3.000000</td>\n",
       "      <td>3.00</td>\n",
       "    </tr>\n",
       "    <tr>\n",
       "      <th>mean</th>\n",
       "      <td>2.0</td>\n",
       "      <td>5.666667</td>\n",
       "      <td>0.30</td>\n",
       "    </tr>\n",
       "    <tr>\n",
       "      <th>std</th>\n",
       "      <td>1.0</td>\n",
       "      <td>1.527525</td>\n",
       "      <td>0.10</td>\n",
       "    </tr>\n",
       "    <tr>\n",
       "      <th>min</th>\n",
       "      <td>1.0</td>\n",
       "      <td>4.000000</td>\n",
       "      <td>0.20</td>\n",
       "    </tr>\n",
       "    <tr>\n",
       "      <th>25%</th>\n",
       "      <td>1.5</td>\n",
       "      <td>5.000000</td>\n",
       "      <td>0.25</td>\n",
       "    </tr>\n",
       "    <tr>\n",
       "      <th>50%</th>\n",
       "      <td>2.0</td>\n",
       "      <td>6.000000</td>\n",
       "      <td>0.30</td>\n",
       "    </tr>\n",
       "    <tr>\n",
       "      <th>75%</th>\n",
       "      <td>2.5</td>\n",
       "      <td>6.500000</td>\n",
       "      <td>0.35</td>\n",
       "    </tr>\n",
       "    <tr>\n",
       "      <th>max</th>\n",
       "      <td>3.0</td>\n",
       "      <td>7.000000</td>\n",
       "      <td>0.40</td>\n",
       "    </tr>\n",
       "  </tbody>\n",
       "</table>\n",
       "</div>"
      ],
      "text/plain": [
       "         x         y     z\n",
       "count  3.0  3.000000  3.00\n",
       "mean   2.0  5.666667  0.30\n",
       "std    1.0  1.527525  0.10\n",
       "min    1.0  4.000000  0.20\n",
       "25%    1.5  5.000000  0.25\n",
       "50%    2.0  6.000000  0.30\n",
       "75%    2.5  6.500000  0.35\n",
       "max    3.0  7.000000  0.40"
      ]
     },
     "execution_count": 16,
     "metadata": {},
     "output_type": "execute_result"
    }
   ],
   "source": [
    "dfstats=df.describe()\n",
    "dfstats\n",
    "\n"
   ]
  },
  {
   "cell_type": "markdown",
   "metadata": {},
   "source": [
    "### Data Types\n",
    "- Each will have an inferred data type. "
   ]
  },
  {
   "cell_type": "code",
   "execution_count": null,
   "metadata": {
    "collapsed": true
   },
   "outputs": [],
   "source": [
    "print(train.dtypes)"
   ]
  },
  {
   "cell_type": "code",
   "execution_count": 17,
   "metadata": {
    "slideshow": {
     "slide_type": "subslide"
    }
   },
   "outputs": [
    {
     "name": "stdout",
     "output_type": "stream",
     "text": [
      "2.0 \n",
      " 1.52752523165\n"
     ]
    }
   ],
   "source": [
    "xmean = dfstats.x['mean'] #This is the X mean\n",
    "ystd = dfstats['y']['std'] #This is the Y standardard deviation\n",
    "print(xmean,'\\n',ystd)"
   ]
  },
  {
   "cell_type": "markdown",
   "metadata": {
    "slideshow": {
     "slide_type": "subslide"
    }
   },
   "source": [
    "# Accessing the Row and Column Labels\n",
    "\n",
    "- The row labels (index) can be accessed through `df.index`.\n",
    "- The column labels can be accessed through `df.columns`.\n"
   ]
  },
  {
   "cell_type": "code",
   "execution_count": 18,
   "metadata": {},
   "outputs": [
    {
     "data": {
      "text/plain": [
       "Index(['a', 'b', 'c', 'd'], dtype='object')"
      ]
     },
     "execution_count": 18,
     "metadata": {},
     "output_type": "execute_result"
    }
   ],
   "source": [
    "df.index\n"
   ]
  },
  {
   "cell_type": "code",
   "execution_count": 19,
   "metadata": {},
   "outputs": [
    {
     "data": {
      "text/plain": [
       "Index(['x', 'y', 'z'], dtype='object')"
      ]
     },
     "execution_count": 19,
     "metadata": {},
     "output_type": "execute_result"
    }
   ],
   "source": [
    "df.columns"
   ]
  },
  {
   "cell_type": "code",
   "execution_count": 31,
   "metadata": {},
   "outputs": [
    {
     "name": "stdout",
     "output_type": "stream",
     "text": [
      "         x         y     z\n",
      "count  3.0  3.000000  3.00\n",
      "mean   2.0  5.666667  0.30\n",
      "std    1.0  1.527525  0.10\n",
      "min    1.0  4.000000  0.20\n",
      "25%    1.5  5.000000  0.25\n",
      "50%    2.0  6.000000  0.30\n",
      "75%    2.5  6.500000  0.35\n",
      "max    3.0  7.000000  0.40\n"
     ]
    }
   ],
   "source": [
    "print(df.describe())"
   ]
  },
  {
   "cell_type": "markdown",
   "metadata": {
    "slideshow": {
     "slide_type": "subslide"
    }
   },
   "source": [
    "## Financial Data\n",
    "\n",
    "- Pandas was originally developed to analyse financial data.\n",
    "\n",
    "- While Pandas used to have [built-in functions](http://pandas.pydata.org/pandas-docs/stable/remote_data.html) for retrieving data from Google, Yahoo Finance etc., it has recently been move to a package `pandas_datareader` that we have to install.\n",
    "\n",
    "- The following example will retrieve the data for \"GSK\" from Yahoo Finance.\n",
    "- Both [quant-econ.net](http://quant-econ.net) and [quantecon.org](http://quantecon.org) provide great resources for modeling economic data.\n"
   ]
  },
  {
   "cell_type": "code",
   "execution_count": 22,
   "metadata": {
    "collapsed": true,
    "slideshow": {
     "slide_type": "subslide"
    }
   },
   "outputs": [],
   "source": [
    "#If you are working locally you might have to import with `conda install pandas_datareader`\n",
    "import pandas_datareader.data as pdr\n",
    "import datetime\n",
    "start = datetime.datetime(2010, 1, 1)\n",
    "end = datetime.datetime(2013, 1, 27)\n",
    "#This retreives data regarding Ford (F) from yahoo from 1/1/2010 and 1/27/2013\n",
    "gsk = pdr.DataReader('F', 'yahoo', start, end)\n"
   ]
  },
  {
   "cell_type": "markdown",
   "metadata": {
    "slideshow": {
     "slide_type": "subslide"
    }
   },
   "source": [
    "##  Large Dataframes - Head and Tail\n",
    "\n",
    "- Many times you just want a sampling of the available data\n",
    "- The `head()` command can view the start of a data frame.\n",
    "- The `tail()` command can be used to show the end of a data frame. "
   ]
  },
  {
   "cell_type": "code",
   "execution_count": 23,
   "metadata": {},
   "outputs": [
    {
     "data": {
      "text/html": [
       "<div>\n",
       "<table border=\"1\" class=\"dataframe\">\n",
       "  <thead>\n",
       "    <tr style=\"text-align: right;\">\n",
       "      <th></th>\n",
       "      <th>Open</th>\n",
       "      <th>High</th>\n",
       "      <th>Low</th>\n",
       "      <th>Close</th>\n",
       "      <th>Adj Close</th>\n",
       "      <th>Volume</th>\n",
       "    </tr>\n",
       "    <tr>\n",
       "      <th>Date</th>\n",
       "      <th></th>\n",
       "      <th></th>\n",
       "      <th></th>\n",
       "      <th></th>\n",
       "      <th></th>\n",
       "      <th></th>\n",
       "    </tr>\n",
       "  </thead>\n",
       "  <tbody>\n",
       "    <tr>\n",
       "      <th>2010-01-04</th>\n",
       "      <td>10.17</td>\n",
       "      <td>10.28</td>\n",
       "      <td>10.05</td>\n",
       "      <td>10.28</td>\n",
       "      <td>8.201456</td>\n",
       "      <td>60855800</td>\n",
       "    </tr>\n",
       "    <tr>\n",
       "      <th>2010-01-05</th>\n",
       "      <td>10.45</td>\n",
       "      <td>11.24</td>\n",
       "      <td>10.40</td>\n",
       "      <td>10.96</td>\n",
       "      <td>8.743967</td>\n",
       "      <td>215620200</td>\n",
       "    </tr>\n",
       "    <tr>\n",
       "      <th>2010-01-06</th>\n",
       "      <td>11.21</td>\n",
       "      <td>11.46</td>\n",
       "      <td>11.13</td>\n",
       "      <td>11.37</td>\n",
       "      <td>9.071067</td>\n",
       "      <td>200070600</td>\n",
       "    </tr>\n",
       "    <tr>\n",
       "      <th>2010-01-07</th>\n",
       "      <td>11.46</td>\n",
       "      <td>11.69</td>\n",
       "      <td>11.32</td>\n",
       "      <td>11.66</td>\n",
       "      <td>9.302429</td>\n",
       "      <td>130201700</td>\n",
       "    </tr>\n",
       "    <tr>\n",
       "      <th>2010-01-08</th>\n",
       "      <td>11.67</td>\n",
       "      <td>11.74</td>\n",
       "      <td>11.46</td>\n",
       "      <td>11.69</td>\n",
       "      <td>9.326366</td>\n",
       "      <td>130463000</td>\n",
       "    </tr>\n",
       "  </tbody>\n",
       "</table>\n",
       "</div>"
      ],
      "text/plain": [
       "             Open   High    Low  Close  Adj Close     Volume\n",
       "Date                                                        \n",
       "2010-01-04  10.17  10.28  10.05  10.28   8.201456   60855800\n",
       "2010-01-05  10.45  11.24  10.40  10.96   8.743967  215620200\n",
       "2010-01-06  11.21  11.46  11.13  11.37   9.071067  200070600\n",
       "2010-01-07  11.46  11.69  11.32  11.66   9.302429  130201700\n",
       "2010-01-08  11.67  11.74  11.46  11.69   9.326366  130463000"
      ]
     },
     "execution_count": 23,
     "metadata": {},
     "output_type": "execute_result"
    }
   ],
   "source": [
    "gsk.head()"
   ]
  },
  {
   "cell_type": "code",
   "execution_count": 24,
   "metadata": {
    "slideshow": {
     "slide_type": "subslide"
    }
   },
   "outputs": [
    {
     "data": {
      "text/html": [
       "<div>\n",
       "<table border=\"1\" class=\"dataframe\">\n",
       "  <thead>\n",
       "    <tr style=\"text-align: right;\">\n",
       "      <th></th>\n",
       "      <th>Open</th>\n",
       "      <th>High</th>\n",
       "      <th>Low</th>\n",
       "      <th>Close</th>\n",
       "      <th>Adj Close</th>\n",
       "      <th>Volume</th>\n",
       "    </tr>\n",
       "    <tr>\n",
       "      <th>Date</th>\n",
       "      <th></th>\n",
       "      <th></th>\n",
       "      <th></th>\n",
       "      <th></th>\n",
       "      <th></th>\n",
       "      <th></th>\n",
       "    </tr>\n",
       "  </thead>\n",
       "  <tbody>\n",
       "    <tr>\n",
       "      <th>2013-01-18</th>\n",
       "      <td>14.10</td>\n",
       "      <td>14.13</td>\n",
       "      <td>13.97</td>\n",
       "      <td>14.11</td>\n",
       "      <td>11.467258</td>\n",
       "      <td>45716100</td>\n",
       "    </tr>\n",
       "    <tr>\n",
       "      <th>2013-01-22</th>\n",
       "      <td>14.06</td>\n",
       "      <td>14.19</td>\n",
       "      <td>14.00</td>\n",
       "      <td>14.17</td>\n",
       "      <td>11.516023</td>\n",
       "      <td>35467900</td>\n",
       "    </tr>\n",
       "    <tr>\n",
       "      <th>2013-01-23</th>\n",
       "      <td>14.00</td>\n",
       "      <td>14.02</td>\n",
       "      <td>13.79</td>\n",
       "      <td>13.88</td>\n",
       "      <td>11.280335</td>\n",
       "      <td>58122200</td>\n",
       "    </tr>\n",
       "    <tr>\n",
       "      <th>2013-01-24</th>\n",
       "      <td>13.82</td>\n",
       "      <td>13.98</td>\n",
       "      <td>13.81</td>\n",
       "      <td>13.87</td>\n",
       "      <td>11.272209</td>\n",
       "      <td>42532700</td>\n",
       "    </tr>\n",
       "    <tr>\n",
       "      <th>2013-01-25</th>\n",
       "      <td>13.83</td>\n",
       "      <td>13.84</td>\n",
       "      <td>13.64</td>\n",
       "      <td>13.68</td>\n",
       "      <td>11.117797</td>\n",
       "      <td>53405400</td>\n",
       "    </tr>\n",
       "  </tbody>\n",
       "</table>\n",
       "</div>"
      ],
      "text/plain": [
       "             Open   High    Low  Close  Adj Close    Volume\n",
       "Date                                                       \n",
       "2013-01-18  14.10  14.13  13.97  14.11  11.467258  45716100\n",
       "2013-01-22  14.06  14.19  14.00  14.17  11.516023  35467900\n",
       "2013-01-23  14.00  14.02  13.79  13.88  11.280335  58122200\n",
       "2013-01-24  13.82  13.98  13.81  13.87  11.272209  42532700\n",
       "2013-01-25  13.83  13.84  13.64  13.68  11.117797  53405400"
      ]
     },
     "execution_count": 24,
     "metadata": {},
     "output_type": "execute_result"
    }
   ],
   "source": [
    "gsk.tail()"
   ]
  },
  {
   "cell_type": "code",
   "execution_count": 25,
   "metadata": {
    "slideshow": {
     "slide_type": "subslide"
    }
   },
   "outputs": [
    {
     "data": {
      "image/png": "[encoded data removed]",
      "text/plain": [
       "<matplotlib.figure.Figure at 0x110e950f0>"
      ]
     },
     "metadata": {},
     "output_type": "display_data"
    }
   ],
   "source": [
    "## Volume as a time series\n",
    "%matplotlib inline\n",
    "ax = gsk['Volume'].plot()"
   ]
  },
  {
   "cell_type": "markdown",
   "metadata": {
    "slideshow": {
     "slide_type": "subslide"
    }
   },
   "source": [
    "## Adjusted closing prices as a time series"
   ]
  },
  {
   "cell_type": "code",
   "execution_count": 26,
   "metadata": {
    "scrolled": true,
    "slideshow": {
     "slide_type": "-"
    }
   },
   "outputs": [
    {
     "data": {
      "text/plain": [
       "<matplotlib.axes._subplots.AxesSubplot at 0x1135e40b8>"
      ]
     },
     "execution_count": 26,
     "metadata": {},
     "output_type": "execute_result"
    },
    {
     "data": {
      "image/png": "[encoded data removed]",
      "text/plain": [
       "<matplotlib.figure.Figure at 0x113505b38>"
      ]
     },
     "metadata": {},
     "output_type": "display_data"
    }
   ],
   "source": [
    "gsk['Adj Close'].plot()"
   ]
  },
  {
   "cell_type": "code",
   "execution_count": 27,
   "metadata": {
    "slideshow": {
     "slide_type": "subslide"
    }
   },
   "outputs": [
    {
     "data": {
      "text/plain": [
       "Date\n",
       "2011-01-03    13.762172\n",
       "2011-01-04    13.865887\n",
       "2011-01-05    14.272766\n",
       "2011-01-06    14.536045\n",
       "2011-01-07    14.575936\n",
       "2011-01-10    14.607848\n",
       "2011-01-11    14.583915\n",
       "2011-01-12    14.926970\n",
       "2011-01-13    14.903038\n",
       "2011-01-14    14.879099\n",
       "2011-01-18    14.918996\n",
       "2011-01-19    14.280746\n",
       "2011-01-20    14.185011\n",
       "2011-01-21    14.320642\n",
       "2011-01-24    14.304683\n",
       "2011-01-25    14.272766\n",
       "2011-01-26    14.655718\n",
       "2011-01-27    14.990792\n",
       "2011-01-28    12.980324\n",
       "2011-01-31    12.725022\n",
       "2011-02-01    12.677155\n",
       "2011-02-02    12.286231\n",
       "2011-02-03    12.573442\n",
       "2011-02-04    12.541528\n",
       "2011-02-07    12.852673\n",
       "2011-02-08    12.956387\n",
       "2011-02-09    12.836716\n",
       "2011-02-10    12.725022\n",
       "2011-02-11    13.068080\n",
       "2011-02-14    12.836716\n",
       "                ...    \n",
       "2012-11-16     8.533397\n",
       "2012-11-19     8.801588\n",
       "2012-11-20     8.817842\n",
       "2012-11-21     8.874731\n",
       "2012-11-23     9.021017\n",
       "2012-11-26     9.029144\n",
       "2012-11-27     9.021017\n",
       "2012-11-28     9.142924\n",
       "2012-11-29     9.370479\n",
       "2012-11-30     9.305467\n",
       "2012-12-03     9.272956\n",
       "2012-12-04     9.191688\n",
       "2012-12-05     9.191688\n",
       "2012-12-06     9.134796\n",
       "2012-12-07     9.329847\n",
       "2012-12-10     9.321719\n",
       "2012-12-11     9.337972\n",
       "2012-12-12     9.321719\n",
       "2012-12-13     9.159179\n",
       "2012-12-14     9.021017\n",
       "2012-12-17     9.256704\n",
       "2012-12-18     9.484260\n",
       "2012-12-19     9.533023\n",
       "2012-12-20     9.565533\n",
       "2012-12-21     9.638675\n",
       "2012-12-24    10.077534\n",
       "2012-12-26    10.394488\n",
       "2012-12-27    10.370109\n",
       "2012-12-28    10.459506\n",
       "2012-12-31    10.524523\n",
       "Name: Adj Close, dtype: float64"
      ]
     },
     "execution_count": 27,
     "metadata": {},
     "output_type": "execute_result"
    }
   ],
   "source": [
    "## We can slice a range of dates\n",
    "gsk['Adj Close']['1-1-2011':'1-1-2013']"
   ]
  },
  {
   "cell_type": "code",
   "execution_count": 28,
   "metadata": {
    "slideshow": {
     "slide_type": "-"
    }
   },
   "outputs": [
    {
     "data": {
      "text/plain": [
       "<matplotlib.axes._subplots.AxesSubplot at 0x113514390>"
      ]
     },
     "execution_count": 28,
     "metadata": {},
     "output_type": "execute_result"
    },
    {
     "data": {
      "image/png": "[encoded data removed]",
      "text/plain": [
       "<matplotlib.figure.Figure at 0x113278278>"
      ]
     },
     "metadata": {},
     "output_type": "display_data"
    }
   ],
   "source": [
    "gsk['Adj Close']['1-1-2011':'1-1-2013'].plot()"
   ]
  },
  {
   "cell_type": "markdown",
   "metadata": {
    "collapsed": true,
    "slideshow": {
     "slide_type": "subslide"
    }
   },
   "source": [
    "## Loading Files with Pandas\n",
    "- We used Pandas in an earlier notebook to load the iris data file.  \n",
    "- Whenver you have a dataset with a variety of fields of various types, loading it into Pandas is a good strategy.\n",
    "- You can load data from Azure, from a local file, or from a url.  \n",
    "\n",
    "\n",
    "\n",
    "\n",
    "\n"
   ]
  },
  {
   "cell_type": "code",
   "execution_count": 32,
   "metadata": {
    "slideshow": {
     "slide_type": "subslide"
    }
   },
   "outputs": [
    {
     "ename": "FileNotFoundError",
     "evalue": "File b'iris.csv' does not exist",
     "output_type": "error",
     "traceback": [
      "\u001b[0;31m---------------------------------------------------------------------------\u001b[0m",
      "\u001b[0;31mFileNotFoundError\u001b[0m                         Traceback (most recent call last)",
      "\u001b[0;32m<ipython-input-32-71a370619f11>\u001b[0m in \u001b[0;36m<module>\u001b[0;34m()\u001b[0m\n\u001b[1;32m      1\u001b[0m \u001b[0;31m# Pulling from a local file\u001b[0m\u001b[0;34m\u001b[0m\u001b[0;34m\u001b[0m\u001b[0m\n\u001b[0;32m----> 2\u001b[0;31m \u001b[0mframe2\u001b[0m \u001b[0;34m=\u001b[0m \u001b[0mpd\u001b[0m\u001b[0;34m.\u001b[0m\u001b[0mread_csv\u001b[0m\u001b[0;34m(\u001b[0m\u001b[0;34m'iris.csv'\u001b[0m\u001b[0;34m)\u001b[0m\u001b[0;34m\u001b[0m\u001b[0m\n\u001b[0m\u001b[1;32m      3\u001b[0m \u001b[0mframe2\u001b[0m\u001b[0;34m.\u001b[0m\u001b[0mhead\u001b[0m\u001b[0;34m(\u001b[0m\u001b[0;34m)\u001b[0m\u001b[0;34m\u001b[0m\u001b[0m\n",
      "\u001b[0;32m//anaconda/lib/python3.5/site-packages/pandas/io/parsers.py\u001b[0m in \u001b[0;36mparser_f\u001b[0;34m(filepath_or_buffer, sep, delimiter, header, names, index_col, usecols, squeeze, prefix, mangle_dupe_cols, dtype, engine, converters, true_values, false_values, skipinitialspace, skiprows, nrows, na_values, keep_default_na, na_filter, verbose, skip_blank_lines, parse_dates, infer_datetime_format, keep_date_col, date_parser, dayfirst, iterator, chunksize, compression, thousands, decimal, lineterminator, quotechar, quoting, escapechar, comment, encoding, dialect, tupleize_cols, error_bad_lines, warn_bad_lines, skipfooter, skip_footer, doublequote, delim_whitespace, as_recarray, compact_ints, use_unsigned, low_memory, buffer_lines, memory_map, float_precision)\u001b[0m\n\u001b[1;32m    644\u001b[0m                     skip_blank_lines=skip_blank_lines)\n\u001b[1;32m    645\u001b[0m \u001b[0;34m\u001b[0m\u001b[0m\n\u001b[0;32m--> 646\u001b[0;31m         \u001b[0;32mreturn\u001b[0m \u001b[0m_read\u001b[0m\u001b[0;34m(\u001b[0m\u001b[0mfilepath_or_buffer\u001b[0m\u001b[0;34m,\u001b[0m \u001b[0mkwds\u001b[0m\u001b[0;34m)\u001b[0m\u001b[0;34m\u001b[0m\u001b[0m\n\u001b[0m\u001b[1;32m    647\u001b[0m \u001b[0;34m\u001b[0m\u001b[0m\n\u001b[1;32m    648\u001b[0m     \u001b[0mparser_f\u001b[0m\u001b[0;34m.\u001b[0m\u001b[0m__name__\u001b[0m \u001b[0;34m=\u001b[0m \u001b[0mname\u001b[0m\u001b[0;34m\u001b[0m\u001b[0m\n",
      "\u001b[0;32m//anaconda/lib/python3.5/site-packages/pandas/io/parsers.py\u001b[0m in \u001b[0;36m_read\u001b[0;34m(filepath_or_buffer, kwds)\u001b[0m\n\u001b[1;32m    387\u001b[0m \u001b[0;34m\u001b[0m\u001b[0m\n\u001b[1;32m    388\u001b[0m     \u001b[0;31m# Create the parser.\u001b[0m\u001b[0;34m\u001b[0m\u001b[0;34m\u001b[0m\u001b[0m\n\u001b[0;32m--> 389\u001b[0;31m     \u001b[0mparser\u001b[0m \u001b[0;34m=\u001b[0m \u001b[0mTextFileReader\u001b[0m\u001b[0;34m(\u001b[0m\u001b[0mfilepath_or_buffer\u001b[0m\u001b[0;34m,\u001b[0m \u001b[0;34m**\u001b[0m\u001b[0mkwds\u001b[0m\u001b[0;34m)\u001b[0m\u001b[0;34m\u001b[0m\u001b[0m\n\u001b[0m\u001b[1;32m    390\u001b[0m \u001b[0;34m\u001b[0m\u001b[0m\n\u001b[1;32m    391\u001b[0m     \u001b[0;32mif\u001b[0m \u001b[0;34m(\u001b[0m\u001b[0mnrows\u001b[0m \u001b[0;32mis\u001b[0m \u001b[0;32mnot\u001b[0m \u001b[0;32mNone\u001b[0m\u001b[0;34m)\u001b[0m \u001b[0;32mand\u001b[0m \u001b[0;34m(\u001b[0m\u001b[0mchunksize\u001b[0m \u001b[0;32mis\u001b[0m \u001b[0;32mnot\u001b[0m \u001b[0;32mNone\u001b[0m\u001b[0;34m)\u001b[0m\u001b[0;34m:\u001b[0m\u001b[0;34m\u001b[0m\u001b[0m\n",
      "\u001b[0;32m//anaconda/lib/python3.5/site-packages/pandas/io/parsers.py\u001b[0m in \u001b[0;36m__init__\u001b[0;34m(self, f, engine, **kwds)\u001b[0m\n\u001b[1;32m    728\u001b[0m             \u001b[0mself\u001b[0m\u001b[0;34m.\u001b[0m\u001b[0moptions\u001b[0m\u001b[0;34m[\u001b[0m\u001b[0;34m'has_index_names'\u001b[0m\u001b[0;34m]\u001b[0m \u001b[0;34m=\u001b[0m \u001b[0mkwds\u001b[0m\u001b[0;34m[\u001b[0m\u001b[0;34m'has_index_names'\u001b[0m\u001b[0;34m]\u001b[0m\u001b[0;34m\u001b[0m\u001b[0m\n\u001b[1;32m    729\u001b[0m \u001b[0;34m\u001b[0m\u001b[0m\n\u001b[0;32m--> 730\u001b[0;31m         \u001b[0mself\u001b[0m\u001b[0;34m.\u001b[0m\u001b[0m_make_engine\u001b[0m\u001b[0;34m(\u001b[0m\u001b[0mself\u001b[0m\u001b[0;34m.\u001b[0m\u001b[0mengine\u001b[0m\u001b[0;34m)\u001b[0m\u001b[0;34m\u001b[0m\u001b[0m\n\u001b[0m\u001b[1;32m    731\u001b[0m \u001b[0;34m\u001b[0m\u001b[0m\n\u001b[1;32m    732\u001b[0m     \u001b[0;32mdef\u001b[0m \u001b[0mclose\u001b[0m\u001b[0;34m(\u001b[0m\u001b[0mself\u001b[0m\u001b[0;34m)\u001b[0m\u001b[0;34m:\u001b[0m\u001b[0;34m\u001b[0m\u001b[0m\n",
      "\u001b[0;32m//anaconda/lib/python3.5/site-packages/pandas/io/parsers.py\u001b[0m in \u001b[0;36m_make_engine\u001b[0;34m(self, engine)\u001b[0m\n\u001b[1;32m    921\u001b[0m     \u001b[0;32mdef\u001b[0m \u001b[0m_make_engine\u001b[0m\u001b[0;34m(\u001b[0m\u001b[0mself\u001b[0m\u001b[0;34m,\u001b[0m \u001b[0mengine\u001b[0m\u001b[0;34m=\u001b[0m\u001b[0;34m'c'\u001b[0m\u001b[0;34m)\u001b[0m\u001b[0;34m:\u001b[0m\u001b[0;34m\u001b[0m\u001b[0m\n\u001b[1;32m    922\u001b[0m         \u001b[0;32mif\u001b[0m \u001b[0mengine\u001b[0m \u001b[0;34m==\u001b[0m \u001b[0;34m'c'\u001b[0m\u001b[0;34m:\u001b[0m\u001b[0;34m\u001b[0m\u001b[0m\n\u001b[0;32m--> 923\u001b[0;31m             \u001b[0mself\u001b[0m\u001b[0;34m.\u001b[0m\u001b[0m_engine\u001b[0m \u001b[0;34m=\u001b[0m \u001b[0mCParserWrapper\u001b[0m\u001b[0;34m(\u001b[0m\u001b[0mself\u001b[0m\u001b[0;34m.\u001b[0m\u001b[0mf\u001b[0m\u001b[0;34m,\u001b[0m \u001b[0;34m**\u001b[0m\u001b[0mself\u001b[0m\u001b[0;34m.\u001b[0m\u001b[0moptions\u001b[0m\u001b[0;34m)\u001b[0m\u001b[0;34m\u001b[0m\u001b[0m\n\u001b[0m\u001b[1;32m    924\u001b[0m         \u001b[0;32melse\u001b[0m\u001b[0;34m:\u001b[0m\u001b[0;34m\u001b[0m\u001b[0m\n\u001b[1;32m    925\u001b[0m             \u001b[0;32mif\u001b[0m \u001b[0mengine\u001b[0m \u001b[0;34m==\u001b[0m \u001b[0;34m'python'\u001b[0m\u001b[0;34m:\u001b[0m\u001b[0;34m\u001b[0m\u001b[0m\n",
      "\u001b[0;32m//anaconda/lib/python3.5/site-packages/pandas/io/parsers.py\u001b[0m in \u001b[0;36m__init__\u001b[0;34m(self, src, **kwds)\u001b[0m\n\u001b[1;32m   1388\u001b[0m         \u001b[0mkwds\u001b[0m\u001b[0;34m[\u001b[0m\u001b[0;34m'allow_leading_cols'\u001b[0m\u001b[0;34m]\u001b[0m \u001b[0;34m=\u001b[0m \u001b[0mself\u001b[0m\u001b[0;34m.\u001b[0m\u001b[0mindex_col\u001b[0m \u001b[0;32mis\u001b[0m \u001b[0;32mnot\u001b[0m \u001b[0;32mFalse\u001b[0m\u001b[0;34m\u001b[0m\u001b[0m\n\u001b[1;32m   1389\u001b[0m \u001b[0;34m\u001b[0m\u001b[0m\n\u001b[0;32m-> 1390\u001b[0;31m         \u001b[0mself\u001b[0m\u001b[0;34m.\u001b[0m\u001b[0m_reader\u001b[0m \u001b[0;34m=\u001b[0m \u001b[0m_parser\u001b[0m\u001b[0;34m.\u001b[0m\u001b[0mTextReader\u001b[0m\u001b[0;34m(\u001b[0m\u001b[0msrc\u001b[0m\u001b[0;34m,\u001b[0m \u001b[0;34m**\u001b[0m\u001b[0mkwds\u001b[0m\u001b[0;34m)\u001b[0m\u001b[0;34m\u001b[0m\u001b[0m\n\u001b[0m\u001b[1;32m   1391\u001b[0m \u001b[0;34m\u001b[0m\u001b[0m\n\u001b[1;32m   1392\u001b[0m         \u001b[0;31m# XXX\u001b[0m\u001b[0;34m\u001b[0m\u001b[0;34m\u001b[0m\u001b[0m\n",
      "\u001b[0;32mpandas/parser.pyx\u001b[0m in \u001b[0;36mpandas.parser.TextReader.__cinit__ (pandas/parser.c:4184)\u001b[0;34m()\u001b[0m\n",
      "\u001b[0;32mpandas/parser.pyx\u001b[0m in \u001b[0;36mpandas.parser.TextReader._setup_parser_source (pandas/parser.c:8449)\u001b[0;34m()\u001b[0m\n",
      "\u001b[0;31mFileNotFoundError\u001b[0m: File b'iris.csv' does not exist"
     ]
    }
   ],
   "source": [
    "# Pulling from a local file\n",
    "frame2 = pd.read_csv('../input/iris.csv')\n",
    "frame2.head()"
   ]
  },
  {
   "cell_type": "code",
   "execution_count": 30,
   "metadata": {
    "slideshow": {
     "slide_type": "subslide"
    }
   },
   "outputs": [
    {
     "data": {
      "text/html": [
       "<div>\n",
       "<table border=\"1\" class=\"dataframe\">\n",
       "  <thead>\n",
       "    <tr style=\"text-align: right;\">\n",
       "      <th></th>\n",
       "      <th>sepalLength</th>\n",
       "      <th>sepalWidth</th>\n",
       "      <th>petalLength</th>\n",
       "      <th>petalWidth</th>\n",
       "      <th>species</th>\n",
       "    </tr>\n",
       "  </thead>\n",
       "  <tbody>\n",
       "    <tr>\n",
       "      <th>0</th>\n",
       "      <td>5.1</td>\n",
       "      <td>3.5</td>\n",
       "      <td>1.4</td>\n",
       "      <td>0.2</td>\n",
       "      <td>setosa</td>\n",
       "    </tr>\n",
       "    <tr>\n",
       "      <th>1</th>\n",
       "      <td>4.9</td>\n",
       "      <td>3.0</td>\n",
       "      <td>1.4</td>\n",
       "      <td>0.2</td>\n",
       "      <td>setosa</td>\n",
       "    </tr>\n",
       "    <tr>\n",
       "      <th>2</th>\n",
       "      <td>4.7</td>\n",
       "      <td>3.2</td>\n",
       "      <td>1.3</td>\n",
       "      <td>0.2</td>\n",
       "      <td>setosa</td>\n",
       "    </tr>\n",
       "    <tr>\n",
       "      <th>3</th>\n",
       "      <td>4.6</td>\n",
       "      <td>3.1</td>\n",
       "      <td>1.5</td>\n",
       "      <td>0.2</td>\n",
       "      <td>setosa</td>\n",
       "    </tr>\n",
       "    <tr>\n",
       "      <th>4</th>\n",
       "      <td>5.0</td>\n",
       "      <td>3.6</td>\n",
       "      <td>1.4</td>\n",
       "      <td>0.2</td>\n",
       "      <td>setosa</td>\n",
       "    </tr>\n",
       "  </tbody>\n",
       "</table>\n",
       "</div>"
      ],
      "text/plain": [
       "   sepalLength  sepalWidth  petalLength  petalWidth species\n",
       "0          5.1         3.5          1.4         0.2  setosa\n",
       "1          4.9         3.0          1.4         0.2  setosa\n",
       "2          4.7         3.2          1.3         0.2  setosa\n",
       "3          4.6         3.1          1.5         0.2  setosa\n",
       "4          5.0         3.6          1.4         0.2  setosa"
      ]
     },
     "execution_count": 30,
     "metadata": {},
     "output_type": "execute_result"
    }
   ],
   "source": [
    "# Pulling from a url.  Notice that this is the raw version of the file.\n",
    "frame3 = pd.read_csv(\"https://raw.githubusercontent.com/AnalyticsDojo/materials/master/analyticsdojo/data/Iris.csv\")\n",
    "frame3.head()\n"
   ]
  },
  {
   "cell_type": "markdown",
   "metadata": {
    "slideshow": {
     "slide_type": "subslide"
    }
   },
   "source": [
    "## Indexing/Slicing Rows of DataFrames\n",
    "- Simple ways of selecting all rows and colu (`df[:]`)\n",
    "- Rows can be accessed via a key or a integer corresponding to the row number. \n",
    "- Omitting a value generally means *all values* before or after an item.\n",
    "- When we retrieve a single or mulitiple rows, the result is a Dataframe.\n",
    "- Several ways, either directly, with `iloc`, or with `loc`. (See Examples).\n",
    "- Read more [here](http://pandas.pydata.org/pandas-docs/stable/indexing.html)\n",
    "\n"
   ]
  },
  {
   "cell_type": "code",
   "execution_count": 31,
   "metadata": {},
   "outputs": [
    {
     "name": "stdout",
     "output_type": "stream",
     "text": [
      "           a          b          c          d\n",
      "0  20.433689  18.470486  17.204117  25.159897\n",
      "1  18.406456  22.438599  25.821002  20.632703\n",
      "2  17.688657  19.641506  18.082288  21.870087\n",
      "3  32.901207  16.485606  24.369278  19.458263\n",
      "4  26.017600  12.656741  19.045296  16.042367\n",
      "5  22.015985  17.989679  12.718589  19.218296\n",
      "6  28.394695  21.860403  18.776178  24.633824\n",
      "7  19.921075  24.917962  20.583352  21.085426\n",
      "8  20.052721  11.068475  20.017596  19.721238\n",
      "9  15.176574  25.349732  13.912984  25.596210\n",
      "           e          f          g          h\n",
      "0  22.198948  18.238190  15.278378  17.284818\n",
      "1  15.627047  20.778262  17.794344  24.526442\n",
      "2  21.826625  17.365057  18.550029  21.874491\n",
      "3  23.948539  24.682564  16.130018  14.735021\n",
      "4  10.526372  13.841255  22.588502  19.100585\n",
      "5  21.518373  26.157402  24.056450  19.663194\n",
      "6  10.730191  16.031493  14.924461  21.526462\n",
      "7  15.293844  19.810883  16.216014  19.473980\n",
      "8  20.113579  21.218126  22.671602  17.216730\n",
      "9  11.760068  24.636620  13.009702  21.853253\n"
     ]
    }
   ],
   "source": [
    "#This is going to create some sample data that we can work with for our analysis. \n",
    "\n",
    "import pandas as pd\n",
    "import numpy as np\n",
    " \n",
    "#Create a dataframe from a random numpy array \n",
    "#http://docs.scipy.org/doc/numpy/reference/generated/numpy.random.randn.html\n",
    "df = pd.DataFrame((20+np.random.randn(10, 4)*5),  columns=['a', 'b', 'c', 'd'] )\n",
    "print (df)\n",
    "df2 = pd.DataFrame((20+np.random.randn(10, 4)*5),  columns=['e', 'f', 'g', 'h'] )\n",
    "print (df2)\n",
    "\n"
   ]
  },
  {
   "cell_type": "markdown",
   "metadata": {
    "slideshow": {
     "slide_type": "subslide"
    }
   },
   "source": [
    "## Indexing/Slicing Columns of DataFrames\n",
    "- Simple ways of selecting colum(s) `frame[[colname(s)]]`. \n",
    "- Columns can have one (`df['x']`) or multiple (`df[['x', 'y']]`) columns.\n",
    "- When specifying one column, one can use simplified dot notation `df.x`.\n",
    "- When we include multiple columns the slice that result is a DataFrame.\n",
    "- When we retrieve a single column, the result is a Series.\n",
    "- When we retrieve mulitiple column, the result is a Dataframe.\n"
   ]
  },
  {
   "cell_type": "code",
   "execution_count": 32,
   "metadata": {},
   "outputs": [
    {
     "name": "stdout",
     "output_type": "stream",
     "text": [
      "           c          d\n",
      "0  17.204117  25.159897\n",
      "1  25.821002  20.632703\n",
      "2  18.082288  21.870087\n",
      "3  24.369278  19.458263\n",
      "4  19.045296  16.042367\n",
      "5  12.718589  19.218296\n",
      "6  18.776178  24.633824\n",
      "7  20.583352  21.085426\n",
      "8  20.017596  19.721238\n",
      "9  13.912984  25.596210\n",
      "           c          d\n",
      "0  17.204117  25.159897\n",
      "1  25.821002  20.632703\n",
      "2  18.082288  21.870087\n",
      "3  24.369278  19.458263\n",
      "4  19.045296  16.042367\n",
      "5  12.718589  19.218296\n",
      "6  18.776178  24.633824\n",
      "7  20.583352  21.085426\n",
      "8  20.017596  19.721238\n",
      "9  13.912984  25.596210\n",
      "           a          c          d\n",
      "0  20.433689  17.204117  25.159897\n",
      "1  18.406456  25.821002  20.632703\n",
      "2  17.688657  18.082288  21.870087\n",
      "3  32.901207  24.369278  19.458263\n",
      "4  26.017600  19.045296  16.042367\n",
      "5  22.015985  12.718589  19.218296\n",
      "6  28.394695  18.776178  24.633824\n",
      "7  19.921075  20.583352  21.085426\n",
      "8  20.052721  20.017596  19.721238\n",
      "9  15.176574  13.912984  25.596210\n",
      "           a          b\n",
      "0  20.433689  18.470486\n",
      "1  18.406456  22.438599\n",
      "2  17.688657  19.641506\n",
      "3  32.901207  16.485606\n",
      "4  26.017600  12.656741\n",
      "5  22.015985  17.989679\n",
      "6  28.394695  21.860403\n",
      "7  19.921075  24.917962\n",
      "8  20.052721  11.068475\n",
      "9  15.176574  25.349732\n",
      "           a          c          d\n",
      "0  20.433689  17.204117  25.159897\n",
      "1  18.406456  25.821002  20.632703\n",
      "2  17.688657  18.082288  21.870087\n",
      "3  32.901207  24.369278  19.458263\n",
      "4  26.017600  19.045296  16.042367\n",
      "5  22.015985  12.718589  19.218296\n",
      "6  28.394695  18.776178  24.633824\n",
      "7  19.921075  20.583352  21.085426\n",
      "8  20.052721  20.017596  19.721238\n",
      "9  15.176574  13.912984  25.596210\n",
      "           a          b\n",
      "0  20.433689  18.470486\n",
      "1  18.406456  22.438599\n",
      "2  17.688657  19.641506\n",
      "3  32.901207  16.485606\n",
      "4  26.017600  12.656741\n",
      "5  22.015985  17.989679\n",
      "6  28.394695  21.860403\n",
      "7  19.921075  24.917962\n",
      "8  20.052721  11.068475\n",
      "9  15.176574  25.349732\n",
      "           a          c          d\n",
      "0  20.433689  17.204117  25.159897\n",
      "1  18.406456  25.821002  20.632703\n",
      "2  17.688657  18.082288  21.870087\n",
      "3  32.901207  24.369278  19.458263\n",
      "4  26.017600  19.045296  16.042367\n",
      "5  22.015985  12.718589  19.218296\n",
      "6  28.394695  18.776178  24.633824\n",
      "7  19.921075  20.583352  21.085426\n",
      "8  20.052721  20.017596  19.721238\n",
      "9  15.176574  13.912984  25.596210\n"
     ]
    }
   ],
   "source": [
    "#Here we can see that there is a similar structure to R, with selecting the desired columns by passing a list.\n",
    "\n",
    "print (df[['c', 'd']]) #All rows, column c, d\n",
    "print (df[[ 'c', 'd']]) #All rows, column c, d\n",
    "print (df.iloc[:,[0,2,3]]) #All rows, column a,c,d\n",
    "print (df.iloc[:,0:2])     #All rows, column a-b\n",
    "print (df.iloc[:,[0,2,3]])     #All rows, column 0,2,3\n",
    "print (df.loc[:,'a':'b']) #All rows, column a-b\n",
    "print (df.loc[:,['a','c','d']]) #All rows, columns a, c, d\n",
    "\n"
   ]
  },
  {
   "cell_type": "markdown",
   "metadata": {
    "slideshow": {
     "slide_type": "subslide"
    }
   },
   "source": [
    "## Dropping Columns from Dataframes\n",
    "- Done using the `drop` syntax. \n",
    "- [Drop Documentation](http://pandas.pydata.org/pandas-docs/stable/generated/pandas.DataFrame.drop.html)"
   ]
  },
  {
   "cell_type": "code",
   "execution_count": 33,
   "metadata": {
    "slideshow": {
     "slide_type": "-"
    }
   },
   "outputs": [
    {
     "name": "stdout",
     "output_type": "stream",
     "text": [
      "           e          f          g          h\n",
      "0  17.721665  25.785493  13.329597  18.307942\n",
      "1  26.222222  23.214965  26.374664  19.838476\n",
      "2  27.067161  19.331477  24.974632  11.788167\n",
      "3  29.798709  15.479995  20.362635  18.752354\n",
      "4  22.001976  27.547913  13.883987  14.061646\n",
      "5  12.270444  19.826228  17.836764  12.026364\n",
      "6  18.562424  16.932743  31.197012  10.787319\n",
      "7  12.255009  26.749374  23.971915  20.484939\n",
      "8  19.120091  22.324620  29.688168  12.085484\n",
      "9  12.192710  11.311149  10.601594  26.981882\n",
      "           g          h\n",
      "0  13.329597  18.307942\n",
      "1  26.374664  19.838476\n",
      "2  24.974632  11.788167\n",
      "3  20.362635  18.752354\n",
      "4  13.883987  14.061646\n",
      "5  17.836764  12.026364\n",
      "6  31.197012  10.787319\n",
      "7  23.971915  20.484939\n",
      "8  29.688168  12.085484\n",
      "9  10.601594  26.981882\n"
     ]
    }
   ],
   "source": [
    "#Here, we can remove columns specifically from a dataframe using the drop method.\n",
    "df2 = pd.DataFrame((20+np.random.randn(10, 4)*5),  columns=['e', 'f', 'g', 'h'] )\n",
    "print (df2)\n",
    "df2.drop(['e','f'], inplace=True, axis=1)\n",
    "print (df2)"
   ]
  },
  {
   "cell_type": "markdown",
   "metadata": {
    "slideshow": {
     "slide_type": "subslide"
    }
   },
   "source": [
    "## Selecting Rows\n",
    "- Similarly, we also might want to select out rows, and we can utilize the same syntax.\n",
    "- [iloc](https://pandas.pydata.org/pandas-docs/stable/generated/pandas.DataFrame.iloc.html)"
   ]
  },
  {
   "cell_type": "code",
   "execution_count": 34,
   "metadata": {},
   "outputs": [
    {
     "name": "stdout",
     "output_type": "stream",
     "text": [
      "           a          b          c          d\n",
      "0  20.433689  18.470486  17.204117  25.159897\n",
      "1  18.406456  22.438599  25.821002  20.632703\n",
      "2  17.688657  19.641506  18.082288  21.870087\n",
      "           a          b          c          d\n",
      "0  20.433689  18.470486  17.204117  25.159897\n",
      "1  18.406456  22.438599  25.821002  20.632703\n",
      "2  17.688657  19.641506  18.082288  21.870087\n",
      "           a          b          c          d\n",
      "0  20.433689  18.470486  17.204117  25.159897\n",
      "1  18.406456  22.438599  25.821002  20.632703\n",
      "2  17.688657  19.641506  18.082288  21.870087\n",
      "           a          b          c          d\n",
      "0  20.433689  18.470486  17.204117  25.159897\n",
      "1  18.406456  22.438599  25.821002  20.632703\n",
      "2  17.688657  19.641506  18.082288  21.870087\n",
      "           a          b          c          d\n",
      "1  18.406456  22.438599  25.821002  20.632703\n",
      "2  17.688657  19.641506  18.082288  21.870087\n",
      "4  26.017600  12.656741  19.045296  16.042367\n"
     ]
    }
   ],
   "source": [
    "\n",
    "## Selecting rows\n",
    "print (df[0:3])     #Select rows 1-3\n",
    "print (df.iloc[0:3,:])     #Select rows 1-3\n",
    "print (df.iloc[0:3,])      #Select rows 1-3\n",
    "print (df.iloc[0:3])       #Select rows 1-3\n",
    "print (df.iloc[[1,2,4]])   #Select rows 1, 2, and 4\n"
   ]
  },
  {
   "cell_type": "markdown",
   "metadata": {
    "slideshow": {
     "slide_type": "subslide"
    }
   },
   "source": [
    "## Intro to Filters (Logical indexing)\n",
    "- Filters are the selection of rows based on criteria.\n",
    "- We can select based on specific criteria.\n",
    "- These criteria can be connected together.\n",
    "- Most of the time we won't specfically assign selection critia to a list. "
   ]
  },
  {
   "cell_type": "code",
   "execution_count": 35,
   "metadata": {},
   "outputs": [
    {
     "name": "stdout",
     "output_type": "stream",
     "text": [
      "           a          b          c          d\n",
      "0  20.433689  18.470486  17.204117  25.159897\n",
      "1  18.406456  22.438599  25.821002  20.632703\n",
      "2  17.688657  19.641506  18.082288  21.870087\n",
      "3  32.901207  16.485606  24.369278  19.458263\n",
      "4  26.017600  12.656741  19.045296  16.042367\n",
      "5  22.015985  17.989679  12.718589  19.218296\n",
      "6  28.394695  21.860403  18.776178  24.633824\n",
      "7  19.921075  24.917962  20.583352  21.085426\n",
      "8  20.052721  11.068475  20.017596  19.721238\n",
      "9  15.176574  25.349732  13.912984  25.596210\n"
     ]
    },
    {
     "data": {
      "text/plain": [
       "0     True\n",
       "1    False\n",
       "2    False\n",
       "3     True\n",
       "4     True\n",
       "5     True\n",
       "6     True\n",
       "7    False\n",
       "8     True\n",
       "9    False\n",
       "Name: a, dtype: bool"
      ]
     },
     "execution_count": 35,
     "metadata": {},
     "output_type": "execute_result"
    }
   ],
   "source": [
    "# At the foundation of the filter is a boolean array based on some type of condition. \n",
    "print(df)\n",
    "df['a'] >= 20"
   ]
  },
  {
   "cell_type": "code",
   "execution_count": 36,
   "metadata": {
    "slideshow": {
     "slide_type": "subslide"
    }
   },
   "outputs": [
    {
     "data": {
      "text/html": [
       "<div>\n",
       "<table border=\"1\" class=\"dataframe\">\n",
       "  <thead>\n",
       "    <tr style=\"text-align: right;\">\n",
       "      <th></th>\n",
       "      <th>a</th>\n",
       "      <th>b</th>\n",
       "      <th>c</th>\n",
       "      <th>d</th>\n",
       "    </tr>\n",
       "  </thead>\n",
       "  <tbody>\n",
       "    <tr>\n",
       "      <th>0</th>\n",
       "      <td>20.433689</td>\n",
       "      <td>18.470486</td>\n",
       "      <td>17.204117</td>\n",
       "      <td>25.159897</td>\n",
       "    </tr>\n",
       "    <tr>\n",
       "      <th>3</th>\n",
       "      <td>32.901207</td>\n",
       "      <td>16.485606</td>\n",
       "      <td>24.369278</td>\n",
       "      <td>19.458263</td>\n",
       "    </tr>\n",
       "    <tr>\n",
       "      <th>4</th>\n",
       "      <td>26.017600</td>\n",
       "      <td>12.656741</td>\n",
       "      <td>19.045296</td>\n",
       "      <td>16.042367</td>\n",
       "    </tr>\n",
       "    <tr>\n",
       "      <th>5</th>\n",
       "      <td>22.015985</td>\n",
       "      <td>17.989679</td>\n",
       "      <td>12.718589</td>\n",
       "      <td>19.218296</td>\n",
       "    </tr>\n",
       "    <tr>\n",
       "      <th>6</th>\n",
       "      <td>28.394695</td>\n",
       "      <td>21.860403</td>\n",
       "      <td>18.776178</td>\n",
       "      <td>24.633824</td>\n",
       "    </tr>\n",
       "    <tr>\n",
       "      <th>8</th>\n",
       "      <td>20.052721</td>\n",
       "      <td>11.068475</td>\n",
       "      <td>20.017596</td>\n",
       "      <td>19.721238</td>\n",
       "    </tr>\n",
       "  </tbody>\n",
       "</table>\n",
       "</div>"
      ],
      "text/plain": [
       "           a          b          c          d\n",
       "0  20.433689  18.470486  17.204117  25.159897\n",
       "3  32.901207  16.485606  24.369278  19.458263\n",
       "4  26.017600  12.656741  19.045296  16.042367\n",
       "5  22.015985  17.989679  12.718589  19.218296\n",
       "6  28.394695  21.860403  18.776178  24.633824\n",
       "8  20.052721  11.068475  20.017596  19.721238"
      ]
     },
     "execution_count": 36,
     "metadata": {},
     "output_type": "execute_result"
    }
   ],
   "source": [
    "#notice how the logical statement is inside the dataframe specification.  This creates an intermediate boolean array. \n",
    "df[df['a'] >= 20]"
   ]
  },
  {
   "cell_type": "code",
   "execution_count": 37,
   "metadata": {
    "slideshow": {
     "slide_type": "subslide"
    }
   },
   "outputs": [
    {
     "data": {
      "text/html": [
       "<div>\n",
       "<table border=\"1\" class=\"dataframe\">\n",
       "  <thead>\n",
       "    <tr style=\"text-align: right;\">\n",
       "      <th></th>\n",
       "      <th>a</th>\n",
       "      <th>b</th>\n",
       "      <th>c</th>\n",
       "      <th>d</th>\n",
       "    </tr>\n",
       "  </thead>\n",
       "  <tbody>\n",
       "    <tr>\n",
       "      <th>0</th>\n",
       "      <td>20.433689</td>\n",
       "      <td>18.470486</td>\n",
       "      <td>17.204117</td>\n",
       "      <td>25.159897</td>\n",
       "    </tr>\n",
       "    <tr>\n",
       "      <th>3</th>\n",
       "      <td>32.901207</td>\n",
       "      <td>16.485606</td>\n",
       "      <td>24.369278</td>\n",
       "      <td>19.458263</td>\n",
       "    </tr>\n",
       "    <tr>\n",
       "      <th>4</th>\n",
       "      <td>26.017600</td>\n",
       "      <td>12.656741</td>\n",
       "      <td>19.045296</td>\n",
       "      <td>16.042367</td>\n",
       "    </tr>\n",
       "    <tr>\n",
       "      <th>5</th>\n",
       "      <td>22.015985</td>\n",
       "      <td>17.989679</td>\n",
       "      <td>12.718589</td>\n",
       "      <td>19.218296</td>\n",
       "    </tr>\n",
       "    <tr>\n",
       "      <th>6</th>\n",
       "      <td>28.394695</td>\n",
       "      <td>21.860403</td>\n",
       "      <td>18.776178</td>\n",
       "      <td>24.633824</td>\n",
       "    </tr>\n",
       "    <tr>\n",
       "      <th>8</th>\n",
       "      <td>20.052721</td>\n",
       "      <td>11.068475</td>\n",
       "      <td>20.017596</td>\n",
       "      <td>19.721238</td>\n",
       "    </tr>\n",
       "  </tbody>\n",
       "</table>\n",
       "</div>"
      ],
      "text/plain": [
       "           a          b          c          d\n",
       "0  20.433689  18.470486  17.204117  25.159897\n",
       "3  32.901207  16.485606  24.369278  19.458263\n",
       "4  26.017600  12.656741  19.045296  16.042367\n",
       "5  22.015985  17.989679  12.718589  19.218296\n",
       "6  28.394695  21.860403  18.776178  24.633824\n",
       "8  20.052721  11.068475  20.017596  19.721238"
      ]
     },
     "execution_count": 37,
     "metadata": {},
     "output_type": "execute_result"
    }
   ],
   "source": [
    "#This is an alternate method where we first set the boolean array. \n",
    "included=df['a'] >= 20\n",
    "df[included]\n"
   ]
  },
  {
   "cell_type": "code",
   "execution_count": 38,
   "metadata": {},
   "outputs": [
    {
     "name": "stdout",
     "output_type": "stream",
     "text": [
      "0     True\n",
      "1    False\n",
      "2    False\n",
      "3     True\n",
      "4     True\n",
      "5     True\n",
      "6     True\n",
      "7    False\n",
      "8     True\n",
      "9    False\n",
      "Name: a, dtype: bool <class 'pandas.core.series.Series'>\n",
      "0    20.433689\n",
      "3    32.901207\n",
      "4    26.017600\n",
      "5    22.015985\n",
      "6    28.394695\n",
      "8    20.052721\n",
      "Name: a, dtype: float64\n",
      "0     True\n",
      "1    False\n",
      "2    False\n",
      "3     True\n",
      "4     True\n",
      "5     True\n",
      "6     True\n",
      "7    False\n",
      "8     True\n",
      "9    False\n",
      "dtype: bool\n",
      "           a          c\n",
      "0  20.433689  17.204117\n",
      "3  32.901207  24.369278\n",
      "4  26.017600  19.045296\n",
      "5  22.015985  12.718589\n",
      "6  28.394695  18.776178\n",
      "8  20.052721  20.017596\n"
     ]
    }
   ],
   "source": [
    "#We can now generate a vector based on a critera and then use this for selection\n",
    "select = df['a']>=20\n",
    "print (select,type(select))\n",
    "print (df.loc[select,'a']) #Notice by including only one variable we are selecting rows and all columns.\n",
    "\n",
    "select2 = (df['a']>20) & (df['c'] < 30)  #More complex criteria\n",
    "print (select2)\n",
    "print (df.loc[select2,['a','c']])\n",
    "\n"
   ]
  },
  {
   "cell_type": "code",
   "execution_count": 39,
   "metadata": {},
   "outputs": [
    {
     "name": "stdout",
     "output_type": "stream",
     "text": [
      "0    1\n",
      "1    0\n",
      "2    0\n",
      "3    1\n",
      "4    1\n",
      "5    1\n",
      "6    1\n",
      "7    0\n",
      "8    1\n",
      "9    0\n",
      "Name: aboveavg, dtype: int64\n"
     ]
    }
   ],
   "source": [
    "#Here we are creating a new variable based on the value of another variable.\n",
    "df['aboveavg']=0  # We first set the default to 0. \n",
    "df.loc[df['a']>=20,'aboveavg']=1 #We then change all rows where a is >=20 to 1.\n",
    "print(df['aboveavg'])"
   ]
  },
  {
   "cell_type": "markdown",
   "metadata": {
    "slideshow": {
     "slide_type": "subslide"
    }
   },
   "source": [
    "## Joining Dataframes\n",
    "- Often you need to combine dataframe, \n",
    "- either matching columns for the smae rows (column  bind)\n",
    "- Add rows for the same columns (row bind)"
   ]
  },
  {
   "cell_type": "markdown",
   "metadata": {
    "slideshow": {
     "slide_type": "subslide"
    }
   },
   "source": [
    "## Stacking Dataframes Vertically\n",
    "- Adds rows vertially with the `concat` function\n",
    "- The index is not automatically reset\n",
    "- In R referred to as a row bind."
   ]
  },
  {
   "cell_type": "code",
   "execution_count": 40,
   "metadata": {},
   "outputs": [
    {
     "name": "stdout",
     "output_type": "stream",
     "text": [
      "           a          b          c          d\n",
      "0  15.005032  24.226358   9.121983  24.363857\n",
      "1  27.556025  19.287197  27.573472  28.351025\n",
      "2  21.985489  13.960642  24.302338   4.584726\n",
      "3  31.495365  20.478308  17.098913  20.648894\n",
      "4  12.972037  13.911789  16.452253  13.050833\n",
      "5  11.425303  17.400112  19.268305  22.898443\n",
      "6  14.140827  25.677616  26.598400  21.028272\n",
      "7  22.002136  16.515465  21.279558  24.092701\n",
      "8  17.357785  26.678202  22.410675  23.871805\n",
      "9  23.158024  24.506395  23.929505  21.833916\n",
      "0  29.869447  13.233508  17.402878  16.525828\n",
      "1  22.665231  13.719858  10.400279  14.153439\n",
      "2  18.455373  22.015032  28.437001  26.569280\n",
      "3  15.536898  20.892490  20.095986  31.660166\n",
      "4  18.673178  15.774329  18.172289  16.647217\n",
      "5  14.914952  20.683466  17.727510  27.906886\n",
      "6  15.946385  30.360479  19.574986  14.183644\n",
      "7  21.657851  18.593217  22.205457  29.838322\n",
      "8  29.130819  22.629769  24.511310  23.291149\n",
      "9  24.282911  15.910307  25.360774   9.524692\n"
     ]
    }
   ],
   "source": [
    "#This first generates 2 dataframes. \n",
    "df = pd.DataFrame((20+np.random.randn(10, 4)*5),  columns=['a', 'b', 'c', 'd'] )\n",
    "df2 = pd.DataFrame((20+np.random.randn(10, 4)*5),  columns=['a', 'b', 'c', 'd'] )\n",
    "\n",
    "#This will stack the 2 dataframes vertically on top of one another\n",
    "dfbyrow=pd.concat([df, df2])  #This is equivalent to a rowbind in R. \n",
    "print (dfbyrow)"
   ]
  },
  {
   "cell_type": "code",
   "execution_count": 44,
   "metadata": {},
   "outputs": [
    {
     "name": "stdout",
     "output_type": "stream",
     "text": [
      "           a          b          c          d\n",
      "0  15.005032  24.226358   9.121983  24.363857\n",
      "1  27.556025  19.287197  27.573472  28.351025\n",
      "2  21.985489  13.960642  24.302338   4.584726\n",
      "3  31.495365  20.478308  17.098913  20.648894\n",
      "4  12.972037  13.911789  16.452253  13.050833\n",
      "5  11.425303  17.400112  19.268305  22.898443\n",
      "6  14.140827  25.677616  26.598400  21.028272\n",
      "7  22.002136  16.515465  21.279558  24.092701\n",
      "8  17.357785  26.678202  22.410675  23.871805\n",
      "9  23.158024  24.506395  23.929505  21.833916\n",
      "0  29.869447  13.233508  17.402878  16.525828\n",
      "1  22.665231  13.719858  10.400279  14.153439\n",
      "2  18.455373  22.015032  28.437001  26.569280\n",
      "3  15.536898  20.892490  20.095986  31.660166\n",
      "4  18.673178  15.774329  18.172289  16.647217\n",
      "5  14.914952  20.683466  17.727510  27.906886\n",
      "6  15.946385  30.360479  19.574986  14.183644\n",
      "7  21.657851  18.593217  22.205457  29.838322\n",
      "8  29.130819  22.629769  24.511310  23.291149\n",
      "9  24.282911  15.910307  25.360774   9.524692\n",
      "            a          b          c          d\n",
      "0   15.005032  24.226358   9.121983  24.363857\n",
      "1   27.556025  19.287197  27.573472  28.351025\n",
      "2   21.985489  13.960642  24.302338   4.584726\n",
      "3   31.495365  20.478308  17.098913  20.648894\n",
      "4   12.972037  13.911789  16.452253  13.050833\n",
      "5   11.425303  17.400112  19.268305  22.898443\n",
      "6   14.140827  25.677616  26.598400  21.028272\n",
      "7   22.002136  16.515465  21.279558  24.092701\n",
      "8   17.357785  26.678202  22.410675  23.871805\n",
      "9   23.158024  24.506395  23.929505  21.833916\n",
      "10  15.005032  24.226358   9.121983  24.363857\n",
      "11  27.556025  19.287197  27.573472  28.351025\n",
      "12  21.985489  13.960642  24.302338   4.584726\n",
      "13  31.495365  20.478308  17.098913  20.648894\n",
      "14  12.972037  13.911789  16.452253  13.050833\n",
      "15  11.425303  17.400112  19.268305  22.898443\n",
      "16  14.140827  25.677616  26.598400  21.028272\n",
      "17  22.002136  16.515465  21.279558  24.092701\n",
      "18  17.357785  26.678202  22.410675  23.871805\n",
      "19  23.158024  24.506395  23.929505  21.833916\n"
     ]
    }
   ],
   "source": [
    "# View how the index here from df has been reset and incremented while in the earlier example the index was kept. \n",
    "\n",
    "addition = df.append(df2)\n",
    "print(addition )\n",
    "addition2 = df.append(df, ignore_index=True)\n",
    "print(addition2 )\n"
   ]
  },
  {
   "cell_type": "markdown",
   "metadata": {
    "slideshow": {
     "slide_type": "subslide"
    }
   },
   "source": [
    "## Inner/Outer Joins Dataframes\n",
    "- Adds rows vertially with the `concat` function\n",
    "- In R referred to as a column bind.\n",
    "- Can do the equivalent of an inner and outer join."
   ]
  },
  {
   "cell_type": "code",
   "execution_count": 45,
   "metadata": {},
   "outputs": [
    {
     "data": {
      "text/html": [
       "<div>\n",
       "<table border=\"1\" class=\"dataframe\">\n",
       "  <thead>\n",
       "    <tr style=\"text-align: right;\">\n",
       "      <th></th>\n",
       "      <th>a</th>\n",
       "      <th>b</th>\n",
       "      <th>c</th>\n",
       "      <th>d</th>\n",
       "      <th>e</th>\n",
       "      <th>f</th>\n",
       "      <th>g</th>\n",
       "      <th>h</th>\n",
       "    </tr>\n",
       "  </thead>\n",
       "  <tbody>\n",
       "    <tr>\n",
       "      <th>0</th>\n",
       "      <td>22.576089</td>\n",
       "      <td>28.891630</td>\n",
       "      <td>15.353601</td>\n",
       "      <td>25.901426</td>\n",
       "      <td>15.157179</td>\n",
       "      <td>21.600749</td>\n",
       "      <td>12.550956</td>\n",
       "      <td>19.340090</td>\n",
       "    </tr>\n",
       "    <tr>\n",
       "      <th>1</th>\n",
       "      <td>19.916053</td>\n",
       "      <td>20.738753</td>\n",
       "      <td>14.188645</td>\n",
       "      <td>23.066358</td>\n",
       "      <td>18.433608</td>\n",
       "      <td>30.986049</td>\n",
       "      <td>20.177837</td>\n",
       "      <td>14.238396</td>\n",
       "    </tr>\n",
       "    <tr>\n",
       "      <th>2</th>\n",
       "      <td>16.637782</td>\n",
       "      <td>28.420187</td>\n",
       "      <td>8.431636</td>\n",
       "      <td>6.891703</td>\n",
       "      <td>19.901526</td>\n",
       "      <td>22.138572</td>\n",
       "      <td>15.709735</td>\n",
       "      <td>18.793604</td>\n",
       "    </tr>\n",
       "    <tr>\n",
       "      <th>3</th>\n",
       "      <td>21.011992</td>\n",
       "      <td>24.601372</td>\n",
       "      <td>23.614723</td>\n",
       "      <td>26.645414</td>\n",
       "      <td>12.349805</td>\n",
       "      <td>23.212745</td>\n",
       "      <td>18.726439</td>\n",
       "      <td>20.285173</td>\n",
       "    </tr>\n",
       "    <tr>\n",
       "      <th>4</th>\n",
       "      <td>22.113504</td>\n",
       "      <td>24.738917</td>\n",
       "      <td>17.097496</td>\n",
       "      <td>22.976456</td>\n",
       "      <td>21.247337</td>\n",
       "      <td>13.963175</td>\n",
       "      <td>23.880419</td>\n",
       "      <td>20.475069</td>\n",
       "    </tr>\n",
       "    <tr>\n",
       "      <th>5</th>\n",
       "      <td>18.541721</td>\n",
       "      <td>19.655908</td>\n",
       "      <td>23.478497</td>\n",
       "      <td>27.833214</td>\n",
       "      <td>26.568688</td>\n",
       "      <td>17.837682</td>\n",
       "      <td>16.194940</td>\n",
       "      <td>10.892419</td>\n",
       "    </tr>\n",
       "    <tr>\n",
       "      <th>6</th>\n",
       "      <td>7.919420</td>\n",
       "      <td>22.811560</td>\n",
       "      <td>21.984802</td>\n",
       "      <td>23.355093</td>\n",
       "      <td>17.841957</td>\n",
       "      <td>14.355126</td>\n",
       "      <td>19.694069</td>\n",
       "      <td>22.447565</td>\n",
       "    </tr>\n",
       "    <tr>\n",
       "      <th>7</th>\n",
       "      <td>14.980497</td>\n",
       "      <td>24.932561</td>\n",
       "      <td>6.246808</td>\n",
       "      <td>30.388961</td>\n",
       "      <td>19.816534</td>\n",
       "      <td>23.267422</td>\n",
       "      <td>27.035381</td>\n",
       "      <td>18.800882</td>\n",
       "    </tr>\n",
       "    <tr>\n",
       "      <th>8</th>\n",
       "      <td>19.470926</td>\n",
       "      <td>25.567395</td>\n",
       "      <td>16.673980</td>\n",
       "      <td>23.750920</td>\n",
       "      <td>23.829163</td>\n",
       "      <td>19.539769</td>\n",
       "      <td>22.768301</td>\n",
       "      <td>26.327384</td>\n",
       "    </tr>\n",
       "    <tr>\n",
       "      <th>9</th>\n",
       "      <td>20.504794</td>\n",
       "      <td>12.702171</td>\n",
       "      <td>22.907290</td>\n",
       "      <td>21.884356</td>\n",
       "      <td>21.070830</td>\n",
       "      <td>21.713158</td>\n",
       "      <td>10.132253</td>\n",
       "      <td>17.666635</td>\n",
       "    </tr>\n",
       "  </tbody>\n",
       "</table>\n",
       "</div>"
      ],
      "text/plain": [
       "           a          b          c          d          e          f  \\\n",
       "0  22.576089  28.891630  15.353601  25.901426  15.157179  21.600749   \n",
       "1  19.916053  20.738753  14.188645  23.066358  18.433608  30.986049   \n",
       "2  16.637782  28.420187   8.431636   6.891703  19.901526  22.138572   \n",
       "3  21.011992  24.601372  23.614723  26.645414  12.349805  23.212745   \n",
       "4  22.113504  24.738917  17.097496  22.976456  21.247337  13.963175   \n",
       "5  18.541721  19.655908  23.478497  27.833214  26.568688  17.837682   \n",
       "6   7.919420  22.811560  21.984802  23.355093  17.841957  14.355126   \n",
       "7  14.980497  24.932561   6.246808  30.388961  19.816534  23.267422   \n",
       "8  19.470926  25.567395  16.673980  23.750920  23.829163  19.539769   \n",
       "9  20.504794  12.702171  22.907290  21.884356  21.070830  21.713158   \n",
       "\n",
       "           g          h  \n",
       "0  12.550956  19.340090  \n",
       "1  20.177837  14.238396  \n",
       "2  15.709735  18.793604  \n",
       "3  18.726439  20.285173  \n",
       "4  23.880419  20.475069  \n",
       "5  16.194940  10.892419  \n",
       "6  19.694069  22.447565  \n",
       "7  27.035381  18.800882  \n",
       "8  22.768301  26.327384  \n",
       "9  10.132253  17.666635  "
      ]
     },
     "execution_count": 45,
     "metadata": {},
     "output_type": "execute_result"
    }
   ],
   "source": [
    "#Merging additional columns also uses the concat function \n",
    "#This is equavalent to an inner join in SQL.\n",
    "df = pd.DataFrame((20+np.random.randn(10, 4)*5),  columns=['a', 'b', 'c', 'd'] )\n",
    "df4 = pd.DataFrame((20+np.random.randn(10, 4)*5),  columns=['e', 'f', 'g', 'h'] )\n",
    "\n",
    "\n",
    "dfbycolumns = pd.concat([df, df4], axis=1, join='inner')\n",
    "dfbycolumns"
   ]
  },
  {
   "cell_type": "code",
   "execution_count": 21,
   "metadata": {},
   "outputs": [
    {
     "data": {
      "text/html": [
       "<div>\n",
       "<table border=\"1\" class=\"dataframe\">\n",
       "  <thead>\n",
       "    <tr style=\"text-align: right;\">\n",
       "      <th></th>\n",
       "      <th>a</th>\n",
       "      <th>b</th>\n",
       "      <th>c</th>\n",
       "      <th>d</th>\n",
       "      <th>a</th>\n",
       "      <th>b</th>\n",
       "      <th>c</th>\n",
       "      <th>d</th>\n",
       "    </tr>\n",
       "  </thead>\n",
       "  <tbody>\n",
       "    <tr>\n",
       "      <th>0</th>\n",
       "      <td>22.670530</td>\n",
       "      <td>18.996459</td>\n",
       "      <td>12.463951</td>\n",
       "      <td>14.839156</td>\n",
       "      <td>22.670530</td>\n",
       "      <td>18.996459</td>\n",
       "      <td>12.463951</td>\n",
       "      <td>14.839156</td>\n",
       "    </tr>\n",
       "    <tr>\n",
       "      <th>1</th>\n",
       "      <td>23.558752</td>\n",
       "      <td>15.928566</td>\n",
       "      <td>11.986471</td>\n",
       "      <td>20.335631</td>\n",
       "      <td>23.558752</td>\n",
       "      <td>15.928566</td>\n",
       "      <td>11.986471</td>\n",
       "      <td>20.335631</td>\n",
       "    </tr>\n",
       "    <tr>\n",
       "      <th>2</th>\n",
       "      <td>11.203021</td>\n",
       "      <td>10.407740</td>\n",
       "      <td>23.439590</td>\n",
       "      <td>25.218912</td>\n",
       "      <td>11.203021</td>\n",
       "      <td>10.407740</td>\n",
       "      <td>23.439590</td>\n",
       "      <td>25.218912</td>\n",
       "    </tr>\n",
       "    <tr>\n",
       "      <th>3</th>\n",
       "      <td>25.840799</td>\n",
       "      <td>20.822052</td>\n",
       "      <td>28.692540</td>\n",
       "      <td>15.926188</td>\n",
       "      <td>25.840799</td>\n",
       "      <td>20.822052</td>\n",
       "      <td>28.692540</td>\n",
       "      <td>15.926188</td>\n",
       "    </tr>\n",
       "    <tr>\n",
       "      <th>4</th>\n",
       "      <td>21.397606</td>\n",
       "      <td>11.704401</td>\n",
       "      <td>19.169834</td>\n",
       "      <td>27.919349</td>\n",
       "      <td>21.397606</td>\n",
       "      <td>11.704401</td>\n",
       "      <td>19.169834</td>\n",
       "      <td>27.919349</td>\n",
       "    </tr>\n",
       "  </tbody>\n",
       "</table>\n",
       "</div>"
      ],
      "text/plain": [
       "           a          b          c          d          a          b  \\\n",
       "0  22.670530  18.996459  12.463951  14.839156  22.670530  18.996459   \n",
       "1  23.558752  15.928566  11.986471  20.335631  23.558752  15.928566   \n",
       "2  11.203021  10.407740  23.439590  25.218912  11.203021  10.407740   \n",
       "3  25.840799  20.822052  28.692540  15.926188  25.840799  20.822052   \n",
       "4  21.397606  11.704401  19.169834  27.919349  21.397606  11.704401   \n",
       "\n",
       "           c          d  \n",
       "0  12.463951  14.839156  \n",
       "1  11.986471  20.335631  \n",
       "2  23.439590  25.218912  \n",
       "3  28.692540  15.926188  \n",
       "4  19.169834  27.919349  "
      ]
     },
     "execution_count": 21,
     "metadata": {},
     "output_type": "execute_result"
    }
   ],
   "source": [
    "#Here we are generating a small dataframe to be used in merging so you can see the differences in specifying inner & outer, \n",
    "shortdf=df[0:5]\n",
    "dfbycolumns = pd.concat([df, shortdf], axis=1, join='inner')\n",
    "dfbycolumns"
   ]
  },
  {
   "cell_type": "code",
   "execution_count": 46,
   "metadata": {},
   "outputs": [
    {
     "data": {
      "text/html": [
       "<div>\n",
       "<table border=\"1\" class=\"dataframe\">\n",
       "  <thead>\n",
       "    <tr style=\"text-align: right;\">\n",
       "      <th></th>\n",
       "      <th>a</th>\n",
       "      <th>b</th>\n",
       "      <th>c</th>\n",
       "      <th>d</th>\n",
       "      <th>a</th>\n",
       "      <th>b</th>\n",
       "      <th>c</th>\n",
       "      <th>d</th>\n",
       "    </tr>\n",
       "  </thead>\n",
       "  <tbody>\n",
       "    <tr>\n",
       "      <th>0</th>\n",
       "      <td>22.576089</td>\n",
       "      <td>28.891630</td>\n",
       "      <td>15.353601</td>\n",
       "      <td>25.901426</td>\n",
       "      <td>22.576089</td>\n",
       "      <td>28.891630</td>\n",
       "      <td>15.353601</td>\n",
       "      <td>25.901426</td>\n",
       "    </tr>\n",
       "    <tr>\n",
       "      <th>1</th>\n",
       "      <td>19.916053</td>\n",
       "      <td>20.738753</td>\n",
       "      <td>14.188645</td>\n",
       "      <td>23.066358</td>\n",
       "      <td>19.916053</td>\n",
       "      <td>20.738753</td>\n",
       "      <td>14.188645</td>\n",
       "      <td>23.066358</td>\n",
       "    </tr>\n",
       "    <tr>\n",
       "      <th>2</th>\n",
       "      <td>16.637782</td>\n",
       "      <td>28.420187</td>\n",
       "      <td>8.431636</td>\n",
       "      <td>6.891703</td>\n",
       "      <td>16.637782</td>\n",
       "      <td>28.420187</td>\n",
       "      <td>8.431636</td>\n",
       "      <td>6.891703</td>\n",
       "    </tr>\n",
       "    <tr>\n",
       "      <th>3</th>\n",
       "      <td>21.011992</td>\n",
       "      <td>24.601372</td>\n",
       "      <td>23.614723</td>\n",
       "      <td>26.645414</td>\n",
       "      <td>21.011992</td>\n",
       "      <td>24.601372</td>\n",
       "      <td>23.614723</td>\n",
       "      <td>26.645414</td>\n",
       "    </tr>\n",
       "    <tr>\n",
       "      <th>4</th>\n",
       "      <td>22.113504</td>\n",
       "      <td>24.738917</td>\n",
       "      <td>17.097496</td>\n",
       "      <td>22.976456</td>\n",
       "      <td>22.113504</td>\n",
       "      <td>24.738917</td>\n",
       "      <td>17.097496</td>\n",
       "      <td>22.976456</td>\n",
       "    </tr>\n",
       "    <tr>\n",
       "      <th>5</th>\n",
       "      <td>18.541721</td>\n",
       "      <td>19.655908</td>\n",
       "      <td>23.478497</td>\n",
       "      <td>27.833214</td>\n",
       "      <td>NaN</td>\n",
       "      <td>NaN</td>\n",
       "      <td>NaN</td>\n",
       "      <td>NaN</td>\n",
       "    </tr>\n",
       "    <tr>\n",
       "      <th>6</th>\n",
       "      <td>7.919420</td>\n",
       "      <td>22.811560</td>\n",
       "      <td>21.984802</td>\n",
       "      <td>23.355093</td>\n",
       "      <td>NaN</td>\n",
       "      <td>NaN</td>\n",
       "      <td>NaN</td>\n",
       "      <td>NaN</td>\n",
       "    </tr>\n",
       "    <tr>\n",
       "      <th>7</th>\n",
       "      <td>14.980497</td>\n",
       "      <td>24.932561</td>\n",
       "      <td>6.246808</td>\n",
       "      <td>30.388961</td>\n",
       "      <td>NaN</td>\n",
       "      <td>NaN</td>\n",
       "      <td>NaN</td>\n",
       "      <td>NaN</td>\n",
       "    </tr>\n",
       "    <tr>\n",
       "      <th>8</th>\n",
       "      <td>19.470926</td>\n",
       "      <td>25.567395</td>\n",
       "      <td>16.673980</td>\n",
       "      <td>23.750920</td>\n",
       "      <td>NaN</td>\n",
       "      <td>NaN</td>\n",
       "      <td>NaN</td>\n",
       "      <td>NaN</td>\n",
       "    </tr>\n",
       "    <tr>\n",
       "      <th>9</th>\n",
       "      <td>20.504794</td>\n",
       "      <td>12.702171</td>\n",
       "      <td>22.907290</td>\n",
       "      <td>21.884356</td>\n",
       "      <td>NaN</td>\n",
       "      <td>NaN</td>\n",
       "      <td>NaN</td>\n",
       "      <td>NaN</td>\n",
       "    </tr>\n",
       "  </tbody>\n",
       "</table>\n",
       "</div>"
      ],
      "text/plain": [
       "           a          b          c          d          a          b  \\\n",
       "0  22.576089  28.891630  15.353601  25.901426  22.576089  28.891630   \n",
       "1  19.916053  20.738753  14.188645  23.066358  19.916053  20.738753   \n",
       "2  16.637782  28.420187   8.431636   6.891703  16.637782  28.420187   \n",
       "3  21.011992  24.601372  23.614723  26.645414  21.011992  24.601372   \n",
       "4  22.113504  24.738917  17.097496  22.976456  22.113504  24.738917   \n",
       "5  18.541721  19.655908  23.478497  27.833214        NaN        NaN   \n",
       "6   7.919420  22.811560  21.984802  23.355093        NaN        NaN   \n",
       "7  14.980497  24.932561   6.246808  30.388961        NaN        NaN   \n",
       "8  19.470926  25.567395  16.673980  23.750920        NaN        NaN   \n",
       "9  20.504794  12.702171  22.907290  21.884356        NaN        NaN   \n",
       "\n",
       "           c          d  \n",
       "0  15.353601  25.901426  \n",
       "1  14.188645  23.066358  \n",
       "2   8.431636   6.891703  \n",
       "3  23.614723  26.645414  \n",
       "4  17.097496  22.976456  \n",
       "5        NaN        NaN  \n",
       "6        NaN        NaN  \n",
       "7        NaN        NaN  \n",
       "8        NaN        NaN  \n",
       "9        NaN        NaN  "
      ]
     },
     "execution_count": 46,
     "metadata": {},
     "output_type": "execute_result"
    }
   ],
   "source": [
    "#Here, the outer does the equivalent of a left outer join for this dataset. \n",
    "shortdf=df[0:5]\n",
    "dfbycolumns = pd.concat([df, shortdf], axis=1, join='outer')\n",
    "dfbycolumns"
   ]
  },
  {
   "cell_type": "markdown",
   "metadata": {},
   "source": [
    "Copyright [AnalyticsDojo](http://rpi.analyticsdojo.com) 2016.\n",
    "This work is licensed under the [Creative Commons Attribution 4.0 International](https://creativecommons.org/licenses/by/4.0/) license agreement."
   ]
  },
  {
   "cell_type": "markdown",
   "metadata": {
    "slideshow": {
     "slide_type": "slide"
    }
   },
   "source": [
    "## CREDITS\n",
    "\n",
    "#### Large sections of this were adopted from Analysing structured data with Pandas by [Steve Phelps](http://sphelps.net).  Thanks Steve!\n",
    "\n",
    "\n",
    "Copyright [AnalyticsDojo](http://rpi.analyticsdojo.com) 2016\n",
    "This work is licensed under the [Creative Commons Attribution 4.0 International](https://creativecommons.org/licenses/by/4.0/) license agreement.\n",
    "\n"
   ]
  }
 ],
 "metadata": {
  "anaconda-cloud": {},
  "celltoolbar": "Slideshow",
  "kernelspec": {
   "display_name": "Python 3",
   "language": "python",
   "name": "python3"
  },
  "language_info": {
   "codemirror_mode": {
    "name": "ipython",
    "version": 3
   },
   "file_extension": ".py",
   "mimetype": "text/x-python",
   "name": "python",
   "nbconvert_exporter": "python",
   "pygments_lexer": "ipython3",
   "version": "3.6.5"
  },
  "name": "_merged"
 },
 "nbformat": 4,
 "nbformat_minor": 1
}
